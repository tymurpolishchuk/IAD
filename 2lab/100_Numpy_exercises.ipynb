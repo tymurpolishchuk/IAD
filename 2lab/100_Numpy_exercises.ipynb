{
 "cells": [
  {
   "cell_type": "markdown",
   "id": "f44a2f2b",
   "metadata": {},
   "source": [
    "# 100 numpy exercises\n",
    "\n",
    "This is a collection of exercises that have been collected in the numpy mailing list, on stack overflow\n",
    "and in the numpy documentation. The goal of this collection is to offer a quick reference for both old\n",
    "and new users but also to provide a set of exercises for those who teach."
   ]
  },
  {
   "cell_type": "markdown",
   "id": "96443564",
   "metadata": {},
   "source": [
    "#### 1. Import the numpy package under the name `np` (★☆☆)"
   ]
  },
  {
   "cell_type": "code",
   "execution_count": 28,
   "id": "ffe1047e",
   "metadata": {},
   "outputs": [],
   "source": [
    "import numpy as np"
   ]
  },
  {
   "cell_type": "markdown",
   "id": "c807bf1d",
   "metadata": {},
   "source": [
    "#### 2. Print the numpy version and the configuration (★☆☆)"
   ]
  },
  {
   "cell_type": "code",
   "execution_count": 29,
   "id": "f396b717",
   "metadata": {},
   "outputs": [
    {
     "name": "stdout",
     "output_type": "stream",
     "text": [
      "1.23.3\n"
     ]
    }
   ],
   "source": [
    "print(np.__version__)"
   ]
  },
  {
   "cell_type": "markdown",
   "id": "572c1bdb",
   "metadata": {},
   "source": [
    "#### 3. Create a null vector of size 10 (★☆☆)"
   ]
  },
  {
   "cell_type": "code",
   "execution_count": 30,
   "id": "31c9f6a5",
   "metadata": {},
   "outputs": [
    {
     "name": "stdout",
     "output_type": "stream",
     "text": [
      "[0 0 0 0 0 0 0 0 0 0]\n",
      "[0. 0. 0. 0. 0. 0. 0. 0. 0. 0.]\n"
     ]
    }
   ],
   "source": [
    "coords = []\n",
    "for i in range(10):\n",
    "    coords.append(0)\n",
    "\n",
    "null_vector = np.array(coords)\n",
    "\n",
    "print(null_vector)\n",
    "\n",
    "#or\n",
    "\n",
    "null_vector_2 = np.zeros(10)\n",
    "print(null_vector_2)"
   ]
  },
  {
   "cell_type": "markdown",
   "id": "337e6e36",
   "metadata": {},
   "source": [
    "#### 4. How to find the memory size of any array (★☆☆)"
   ]
  },
  {
   "cell_type": "code",
   "execution_count": 31,
   "id": "31e8ec2e",
   "metadata": {},
   "outputs": [
    {
     "name": "stdout",
     "output_type": "stream",
     "text": [
      "40\n"
     ]
    }
   ],
   "source": [
    "print(null_vector.size * null_vector.itemsize)"
   ]
  },
  {
   "cell_type": "markdown",
   "id": "166079c8",
   "metadata": {},
   "source": [
    "#### 5. How to get the documentation of the numpy add function from the command line? (★☆☆)"
   ]
  },
  {
   "cell_type": "code",
   "execution_count": 32,
   "id": "593cd80f",
   "metadata": {},
   "outputs": [
    {
     "name": "stdout",
     "output_type": "stream",
     "text": [
      "add(x1, x2, /, out=None, *, where=True, casting='same_kind', order='K', dtype=None, subok=True[, signature, extobj])\n",
      "\n",
      "Add arguments element-wise.\n",
      "\n",
      "Parameters\n",
      "----------\n",
      "x1, x2 : array_like\n",
      "    The arrays to be added.\n",
      "    If ``x1.shape != x2.shape``, they must be broadcastable to a common\n",
      "    shape (which becomes the shape of the output).\n",
      "out : ndarray, None, or tuple of ndarray and None, optional\n",
      "    A location into which the result is stored. If provided, it must have\n",
      "    a shape that the inputs broadcast to. If not provided or None,\n",
      "    a freshly-allocated array is returned. A tuple (possible only as a\n",
      "    keyword argument) must have length equal to the number of outputs.\n",
      "where : array_like, optional\n",
      "    This condition is broadcast over the input. At locations where the\n",
      "    condition is True, the `out` array will be set to the ufunc result.\n",
      "    Elsewhere, the `out` array will retain its original value.\n",
      "    Note that if an uninitialized `out` array is created via the default\n",
      "    ``out=None``, locations within it where the condition is False will\n",
      "    remain uninitialized.\n",
      "**kwargs\n",
      "    For other keyword-only arguments, see the\n",
      "    :ref:`ufunc docs <ufuncs.kwargs>`.\n",
      "\n",
      "Returns\n",
      "-------\n",
      "add : ndarray or scalar\n",
      "    The sum of `x1` and `x2`, element-wise.\n",
      "    This is a scalar if both `x1` and `x2` are scalars.\n",
      "\n",
      "Notes\n",
      "-----\n",
      "Equivalent to `x1` + `x2` in terms of array broadcasting.\n",
      "\n",
      "Examples\n",
      "--------\n",
      ">>> np.add(1.0, 4.0)\n",
      "5.0\n",
      ">>> x1 = np.arange(9.0).reshape((3, 3))\n",
      ">>> x2 = np.arange(3.0)\n",
      ">>> np.add(x1, x2)\n",
      "array([[  0.,   2.,   4.],\n",
      "       [  3.,   5.,   7.],\n",
      "       [  6.,   8.,  10.]])\n",
      "\n",
      "The ``+`` operator can be used as a shorthand for ``np.add`` on ndarrays.\n",
      "\n",
      ">>> x1 = np.arange(9.0).reshape((3, 3))\n",
      ">>> x2 = np.arange(3.0)\n",
      ">>> x1 + x2\n",
      "array([[ 0.,  2.,  4.],\n",
      "       [ 3.,  5.,  7.],\n",
      "       [ 6.,  8., 10.]])\n",
      "None\n"
     ]
    }
   ],
   "source": [
    "print(np.info(np.add))"
   ]
  },
  {
   "cell_type": "markdown",
   "id": "3add7101",
   "metadata": {},
   "source": [
    "#### 6. Create a null vector of size 10 but the fifth value which is 1 (★☆☆)"
   ]
  },
  {
   "cell_type": "code",
   "execution_count": 33,
   "id": "2edf3c42",
   "metadata": {},
   "outputs": [
    {
     "name": "stdout",
     "output_type": "stream",
     "text": [
      "[0 0 0 0 1 0 0 0 0 0]\n"
     ]
    }
   ],
   "source": [
    "coords.clear()\n",
    "for i in range(10):\n",
    "    coords.append(0 if i != 4 else 1)\n",
    "\n",
    "null_vector = np.array(coords)\n",
    "\n",
    "print(null_vector)"
   ]
  },
  {
   "cell_type": "markdown",
   "id": "cfc46304",
   "metadata": {},
   "source": [
    "#### 7. Create a vector with values ranging from 10 to 49 (★☆☆)"
   ]
  },
  {
   "cell_type": "code",
   "execution_count": 34,
   "id": "d8b86640",
   "metadata": {},
   "outputs": [
    {
     "name": "stdout",
     "output_type": "stream",
     "text": [
      "[10 14 18 23 27 31 36 40 44 49]\n",
      "[10 11 12 13 14 15 16 17 18 19 20 21 22 23 24 25 26 27 28 29 30 31 32 33\n",
      " 34 35 36 37 38 39 40 41 42 43 44 45 46 47 48]\n"
     ]
    }
   ],
   "source": [
    "random_array = np.linspace(10, 49, 10, dtype = int)\n",
    "print(random_array)\n",
    "\n",
    "random_array = np.arange(10, 49, 1)\n",
    "print(random_array)"
   ]
  },
  {
   "cell_type": "markdown",
   "id": "0cc200be",
   "metadata": {},
   "source": [
    "#### 8. Reverse a vector (first element becomes last) (★☆☆)"
   ]
  },
  {
   "cell_type": "code",
   "execution_count": 35,
   "id": "ec044bb5",
   "metadata": {},
   "outputs": [
    {
     "name": "stdout",
     "output_type": "stream",
     "text": [
      "[9 8 7 6 5 4 3 2 1 0]\n"
     ]
    }
   ],
   "source": [
    "rev_vector = np.array([0,1,2,3,4,5,6,7,8,9])\n",
    "print(np.flip(rev_vector))"
   ]
  },
  {
   "cell_type": "markdown",
   "id": "29d9ede4",
   "metadata": {},
   "source": [
    "#### 9. Create a 3x3 matrix with values ranging from 0 to 8 (★☆☆)"
   ]
  },
  {
   "cell_type": "code",
   "execution_count": 36,
   "id": "d9e39043",
   "metadata": {},
   "outputs": [
    {
     "name": "stdout",
     "output_type": "stream",
     "text": [
      "[[0 1 2]\n",
      " [3 4 5]\n",
      " [6 7 8]]\n"
     ]
    }
   ],
   "source": [
    "matrix = np.arange(0,9,1)\n",
    "matrix.shape = (3,3)\n",
    "print(matrix)"
   ]
  },
  {
   "cell_type": "markdown",
   "id": "88905ceb",
   "metadata": {},
   "source": [
    "#### 10. Find indices of non-zero elements from [1,2,0,0,4,0] (★☆☆)"
   ]
  },
  {
   "cell_type": "code",
   "execution_count": 37,
   "id": "b2f3c90a",
   "metadata": {},
   "outputs": [
    {
     "name": "stdout",
     "output_type": "stream",
     "text": [
      "[0 1 4]\n"
     ]
    }
   ],
   "source": [
    "nums = np.array([1,2,0,0,4,0])\n",
    "indices = np.where(nums != 0)\n",
    "\n",
    "print(indices[0])"
   ]
  },
  {
   "cell_type": "markdown",
   "id": "49603e91",
   "metadata": {},
   "source": [
    "#### 11. Create a 3x3 identity matrix (★☆☆)"
   ]
  },
  {
   "cell_type": "code",
   "execution_count": 38,
   "id": "5b607b5c",
   "metadata": {},
   "outputs": [
    {
     "name": "stdout",
     "output_type": "stream",
     "text": [
      "[[1. 0. 0.]\n",
      " [0. 1. 0.]\n",
      " [0. 0. 1.]]\n"
     ]
    }
   ],
   "source": [
    "identity_matrix = np.eye(3)\n",
    "print(identity_matrix)"
   ]
  },
  {
   "cell_type": "markdown",
   "id": "e15c249a",
   "metadata": {},
   "source": [
    "#### 12. Create a 3x3x3 array with random values (★☆☆)"
   ]
  },
  {
   "cell_type": "code",
   "execution_count": 39,
   "id": "ab21ed50",
   "metadata": {},
   "outputs": [
    {
     "name": "stdout",
     "output_type": "stream",
     "text": [
      "[[[5 0 2]\n",
      "  [2 1 2]\n",
      "  [8 6 3]]\n",
      "\n",
      " [[1 5 4]\n",
      "  [4 2 7]\n",
      "  [1 8 2]]\n",
      "\n",
      " [[7 6 4]\n",
      "  [0 0 7]\n",
      "  [2 0 4]]]\n"
     ]
    }
   ],
   "source": [
    "print(np.random.randint(0, 9, size=(3,3,3)))"
   ]
  },
  {
   "cell_type": "markdown",
   "id": "157a129c",
   "metadata": {},
   "source": [
    "#### 13. Create a 10x10 array with random values and find the minimum and maximum values (★☆☆)"
   ]
  },
  {
   "cell_type": "code",
   "execution_count": 40,
   "id": "c0066de5",
   "metadata": {},
   "outputs": [
    {
     "name": "stdout",
     "output_type": "stream",
     "text": [
      "Matrix:\n",
      "[[303  42 693 342 398 137 222 353 447 470]\n",
      " [699 249 394 563 240 210 997 545 623 945]\n",
      " [553 159 780 975 348 832 455 774  70 219]\n",
      " [822 508 409 983 394 411 425 865 967  94]\n",
      " [617 803 677 881 140 483 564 897  13 714]\n",
      " [798 712 717 242 984 961 429 802 186 219]\n",
      " [349 195  48 634 988 299 344 340 172  31]\n",
      " [505 576 148 788 987 987  22 561 976 946]\n",
      " [331  77  18 589 787 822 485 887 188 460]\n",
      " [280 783 325 431 447  27 760 739 474 199]]\n",
      "Min: 13\n",
      "Max: 997\n",
      "\n"
     ]
    }
   ],
   "source": [
    "matrix = np.random.randint(0, 1001, size=(10, 10))\n",
    "\n",
    "min = np.min(matrix)\n",
    "max = np.max(matrix)\n",
    "\n",
    "print(f\"Matrix:\\n{matrix}\\nMin: {min}\\nMax: {max}\\n\")"
   ]
  },
  {
   "cell_type": "markdown",
   "id": "d92d7b32",
   "metadata": {},
   "source": [
    "#### 14. Create a random vector of size 30 and find the mean value (★☆☆)"
   ]
  },
  {
   "cell_type": "code",
   "execution_count": 41,
   "id": "9672d023",
   "metadata": {},
   "outputs": [
    {
     "name": "stdout",
     "output_type": "stream",
     "text": [
      "[756  21 884  72 362 807 547 942 673  36 647 416 446 752 638 494  64 630\n",
      " 894 515 528 601 737 364 271 544 548 134 500 459]\n",
      "509.4\n"
     ]
    }
   ],
   "source": [
    "rand_vector = np.random.randint(0, 1001, 30)\n",
    "print(f\"{rand_vector}\\n{np.mean(rand_vector)}\")"
   ]
  },
  {
   "cell_type": "markdown",
   "id": "f361efc0",
   "metadata": {},
   "source": [
    "#### 15. Create a 2d array with 1 on the border and 0 inside (★☆☆)"
   ]
  },
  {
   "cell_type": "code",
   "execution_count": 42,
   "id": "a55b6666",
   "metadata": {},
   "outputs": [
    {
     "name": "stdout",
     "output_type": "stream",
     "text": [
      "[[1. 1. 1. 1. 1.]\n",
      " [1. 0. 0. 0. 1.]\n",
      " [1. 0. 0. 0. 1.]\n",
      " [1. 0. 0. 0. 1.]\n",
      " [1. 1. 1. 1. 1.]]\n"
     ]
    }
   ],
   "source": [
    "square_matrix = np.zeros((5,5))\n",
    "square_matrix[:, 0] = 1\n",
    "square_matrix[0, :] = 1\n",
    "square_matrix[:, square_matrix[0].shape[0] - 1] = 1\n",
    "square_matrix[square_matrix.shape[1] - 1, :] = 1\n",
    "print(square_matrix)"
   ]
  },
  {
   "cell_type": "markdown",
   "id": "475808cb",
   "metadata": {},
   "source": [
    "#### 16. How to add a border (filled with 0's) around an existing array? (★☆☆)"
   ]
  },
  {
   "cell_type": "code",
   "execution_count": 43,
   "id": "b2df3a8a",
   "metadata": {},
   "outputs": [
    {
     "name": "stdout",
     "output_type": "stream",
     "text": [
      "[[0. 0. 0. 0. 0. 0. 0.]\n",
      " [0. 1. 1. 1. 1. 1. 0.]\n",
      " [0. 1. 0. 0. 0. 1. 0.]\n",
      " [0. 1. 0. 0. 0. 1. 0.]\n",
      " [0. 1. 0. 0. 0. 1. 0.]\n",
      " [0. 1. 1. 1. 1. 1. 0.]\n",
      " [0. 0. 0. 0. 0. 0. 0.]]\n"
     ]
    }
   ],
   "source": [
    "square_matrix = np.pad(square_matrix, 1, constant_values=0)\n",
    "print(square_matrix)"
   ]
  },
  {
   "cell_type": "markdown",
   "id": "1af07d85",
   "metadata": {},
   "source": [
    "#### 17. What is the result of the following expression? (★☆☆)\n",
    "```python\n",
    "0 * np.nan\n",
    "np.nan == np.nan\n",
    "np.inf > np.nan\n",
    "np.nan - np.nan\n",
    "np.nan in set([np.nan])\n",
    "0.3 == 3 * 0.1\n",
    "```"
   ]
  },
  {
   "cell_type": "code",
   "execution_count": 44,
   "id": "109cf327",
   "metadata": {},
   "outputs": [
    {
     "name": "stdout",
     "output_type": "stream",
     "text": [
      "nan\n",
      "False\n",
      "False\n",
      "nan\n",
      "True\n",
      "False\n"
     ]
    }
   ],
   "source": [
    "print(0 * np.nan)\n",
    "print(np.nan == np.nan)\n",
    "print(np.inf > np.nan)\n",
    "print(np.nan - np.nan)\n",
    "print(np.nan in set([np.nan]))\n",
    "print(0.3 == 3 * 0.1)"
   ]
  },
  {
   "cell_type": "markdown",
   "id": "6a235316",
   "metadata": {},
   "source": [
    "#### 18. Create a 5x5 matrix with values 1,2,3,4 just below the diagonal (★☆☆)"
   ]
  },
  {
   "cell_type": "code",
   "execution_count": 45,
   "id": "f2e6cfa6",
   "metadata": {},
   "outputs": [
    {
     "name": "stdout",
     "output_type": "stream",
     "text": [
      "[[0 0 0 0 0]\n",
      " [1 0 0 0 0]\n",
      " [0 2 0 0 0]\n",
      " [0 0 3 0 0]\n",
      " [0 0 0 4 0]]\n"
     ]
    }
   ],
   "source": [
    "some_new_matrix = np.diag(np.arange(1, 5, 1), k = -1)\n",
    "\n",
    "print(some_new_matrix)"
   ]
  },
  {
   "cell_type": "markdown",
   "id": "25362e98",
   "metadata": {},
   "source": [
    "#### 19. Create a 8x8 matrix and fill it with a checkerboard pattern (★☆☆)"
   ]
  },
  {
   "cell_type": "code",
   "execution_count": 46,
   "id": "cabdf298",
   "metadata": {},
   "outputs": [
    {
     "name": "stdout",
     "output_type": "stream",
     "text": [
      "[[0. 1. 0. 1. 0. 1. 0. 1.]\n",
      " [1. 0. 1. 0. 1. 0. 1. 0.]\n",
      " [0. 1. 0. 1. 0. 1. 0. 1.]\n",
      " [1. 0. 1. 0. 1. 0. 1. 0.]\n",
      " [0. 1. 0. 1. 0. 1. 0. 1.]\n",
      " [1. 0. 1. 0. 1. 0. 1. 0.]\n",
      " [0. 1. 0. 1. 0. 1. 0. 1.]\n",
      " [1. 0. 1. 0. 1. 0. 1. 0.]]\n"
     ]
    }
   ],
   "source": [
    "checkerboard = np.ones((8,8))\n",
    "checkerboard[0:checkerboard.shape[0]:2,::2] = 0\n",
    "checkerboard[1::2, 1:checkerboard.shape[0]:2] = 0\n",
    "print(checkerboard)"
   ]
  },
  {
   "cell_type": "markdown",
   "id": "6431e977",
   "metadata": {},
   "source": [
    "#### 20. Consider a (6,7,8) shape array, what is the index (x,y,z) of the 100th element? (★☆☆)"
   ]
  },
  {
   "cell_type": "code",
   "execution_count": 47,
   "id": "de8b0245",
   "metadata": {},
   "outputs": [
    {
     "name": "stdout",
     "output_type": "stream",
     "text": [
      "(1, 5, 4)\n"
     ]
    }
   ],
   "source": [
    "print(np.unravel_index(100, (6,7,8)))"
   ]
  },
  {
   "cell_type": "markdown",
   "id": "31abe6fe",
   "metadata": {},
   "source": [
    "#### 21. Create a checkerboard 8x8 matrix using the tile function (★☆☆)"
   ]
  },
  {
   "cell_type": "code",
   "execution_count": 48,
   "id": "6da26fd3",
   "metadata": {},
   "outputs": [
    {
     "name": "stdout",
     "output_type": "stream",
     "text": [
      "[[0 1 0 1 0 1 0 1]\n",
      " [1 0 1 0 1 0 1 0]\n",
      " [0 1 0 1 0 1 0 1]\n",
      " [1 0 1 0 1 0 1 0]\n",
      " [0 1 0 1 0 1 0 1]\n",
      " [1 0 1 0 1 0 1 0]\n",
      " [0 1 0 1 0 1 0 1]\n",
      " [1 0 1 0 1 0 1 0]]\n"
     ]
    }
   ],
   "source": [
    "print(np.tile(np.array([[0,1],[1,0]]), (4,4)))"
   ]
  },
  {
   "cell_type": "markdown",
   "id": "fd88b3f4",
   "metadata": {},
   "source": [
    "#### 22. Normalize a 5x5 random matrix (★☆☆)"
   ]
  },
  {
   "cell_type": "code",
   "execution_count": 49,
   "id": "ee6ced60",
   "metadata": {},
   "outputs": [
    {
     "name": "stdout",
     "output_type": "stream",
     "text": [
      "[[58 31 17 51 16]\n",
      " [15 79  6 43 73]\n",
      " [ 9 69 43 27 61]\n",
      " [49 78 93 22 25]\n",
      " [81  9 55 19 69]]\n",
      "[[-0.40229885 -0.71264368 -0.87356322 -0.48275862 -0.88505747]\n",
      " [-0.89655172 -0.16091954 -1.         -0.57471264 -0.22988506]\n",
      " [-0.96551724 -0.27586207 -0.57471264 -0.75862069 -0.36781609]\n",
      " [-0.50574713 -0.17241379  0.         -0.81609195 -0.7816092 ]\n",
      " [-0.13793103 -0.96551724 -0.43678161 -0.85057471 -0.27586207]]\n"
     ]
    }
   ],
   "source": [
    "rand_matrix = np.random.randint(0, 100, size=(5, 5))\n",
    "print(rand_matrix)\n",
    "matrix_max = rand_matrix.max()\n",
    "matrix_min = rand_matrix.min()\n",
    "matrix_normalized = (rand_matrix - matrix_max)/(matrix_max - matrix_min)\n",
    "print(matrix_normalized)"
   ]
  },
  {
   "cell_type": "markdown",
   "id": "464d8590",
   "metadata": {},
   "source": [
    "#### 23. Create a custom dtype that describes a color as four unsigned bytes (RGBA) (★☆☆)"
   ]
  },
  {
   "cell_type": "code",
   "execution_count": 50,
   "id": "e2f9cfc6",
   "metadata": {},
   "outputs": [
    {
     "name": "stdout",
     "output_type": "stream",
     "text": [
      "[(255, 188, 32, 55)]\n"
     ]
    }
   ],
   "source": [
    "rgba = np.dtype({'names': ['r','g','b','a'], 'formats': [np.uint8, np.uint8, np.uint8, np.uint8]})\n",
    "color = np.array([(255, 188, 32, 55)], dtype=rgba)\n",
    "print(color)"
   ]
  },
  {
   "cell_type": "markdown",
   "id": "06c63bb3",
   "metadata": {},
   "source": [
    "#### 24. Multiply a 5x3 matrix by a 3x2 matrix (real matrix product) (★☆☆)"
   ]
  },
  {
   "cell_type": "code",
   "execution_count": 51,
   "id": "9fc0d553",
   "metadata": {},
   "outputs": [
    {
     "name": "stdout",
     "output_type": "stream",
     "text": [
      "[[1008  334]\n",
      " [1437  859]\n",
      " [1053  555]\n",
      " [ 915  406]\n",
      " [ 885  335]]\n"
     ]
    }
   ],
   "source": [
    "mat_A = np.random.randint(0, 30, size=(5, 3))\n",
    "mat_B = np.random.randint(0, 30, size=(3, 2))\n",
    "\n",
    "print(mat_A.dot(mat_B))"
   ]
  },
  {
   "cell_type": "markdown",
   "id": "76fa6285",
   "metadata": {},
   "source": [
    "#### 25. Given a 1D array, negate all elements which are between 3 and 8, in place. (★☆☆)"
   ]
  },
  {
   "cell_type": "code",
   "execution_count": 52,
   "id": "0e25eca7",
   "metadata": {},
   "outputs": [
    {
     "name": "stdout",
     "output_type": "stream",
     "text": [
      "[ 0  1  2  3 -4 -5 -6 -7  8  9 10]\n"
     ]
    }
   ],
   "source": [
    "neg_array = np.array([ 0,  1,  2,  3,  4,  5,  6,  7,  8,  9, 10])\n",
    "neg_array[(neg_array > 3) & (neg_array < 8)] *= -1\n",
    "\n",
    "print(neg_array)"
   ]
  },
  {
   "cell_type": "markdown",
   "id": "930ed8bb",
   "metadata": {},
   "source": [
    "#### 26. What is the output of the following script? (★☆☆)\n",
    "```python\n",
    "# Author: Jake VanderPlas\n",
    "\n",
    "print(sum(range(5),-1))\n",
    "from numpy import *\n",
    "print(sum(range(5),-1))\n",
    "```"
   ]
  },
  {
   "cell_type": "code",
   "execution_count": 53,
   "id": "f02eedba",
   "metadata": {},
   "outputs": [
    {
     "data": {
      "text/plain": [
       "10"
      ]
     },
     "execution_count": 53,
     "metadata": {},
     "output_type": "execute_result"
    }
   ],
   "source": [
    "9\n",
    "10"
   ]
  },
  {
   "cell_type": "markdown",
   "id": "177120e7",
   "metadata": {},
   "source": [
    "#### 27. Consider an integer vector Z, which of these expressions are legal? (★☆☆)\n",
    "```python\n",
    "Z**Z\n",
    "2 << Z >> 2\n",
    "Z <- Z\n",
    "1j*Z\n",
    "Z/1/1\n",
    "Z<Z>Z\n",
    "```"
   ]
  },
  {
   "cell_type": "code",
   "execution_count": 54,
   "id": "86d6cbef",
   "metadata": {},
   "outputs": [
    {
     "ename": "NameError",
     "evalue": "name 'Z' is not defined",
     "output_type": "error",
     "traceback": [
      "\u001b[1;31m---------------------------------------------------------------------------\u001b[0m",
      "\u001b[1;31mNameError\u001b[0m                                 Traceback (most recent call last)",
      "Cell \u001b[1;32mIn [54], line 1\u001b[0m\n\u001b[1;32m----> 1\u001b[0m Z\u001b[38;5;241m*\u001b[39m\u001b[38;5;241m*\u001b[39mZ\n\u001b[0;32m      2\u001b[0m \u001b[38;5;241m2\u001b[39m \u001b[38;5;241m<<\u001b[39m Z \u001b[38;5;241m>>\u001b[39m \u001b[38;5;241m2\u001b[39m\n\u001b[0;32m      3\u001b[0m Z \u001b[38;5;241m<\u001b[39m\u001b[38;5;241m-\u001b[39m Z\n",
      "\u001b[1;31mNameError\u001b[0m: name 'Z' is not defined"
     ]
    }
   ],
   "source": [
    "Z**Z\n",
    "2 << Z >> 2\n",
    "Z <- Z\n",
    "1j*Z\n",
    "Z/1/1"
   ]
  },
  {
   "cell_type": "markdown",
   "id": "a6eaf0e8",
   "metadata": {},
   "source": [
    "#### 28. What are the result of the following expressions? (★☆☆)\n",
    "```python\n",
    "np.array(0) / np.array(0)\n",
    "np.array(0) // np.array(0)\n",
    "np.array([np.nan]).astype(int).astype(float)\n",
    "```"
   ]
  },
  {
   "cell_type": "code",
   "execution_count": 55,
   "id": "93684068",
   "metadata": {},
   "outputs": [
    {
     "data": {
      "text/plain": [
       "array([-2.14748365e+09])"
      ]
     },
     "execution_count": 55,
     "metadata": {},
     "output_type": "execute_result"
    }
   ],
   "source": [
    "#invalid value encountered in divide\n",
    "#divide by zero\n",
    "np.array([np.nan]).astype(int).astype(float)"
   ]
  },
  {
   "cell_type": "markdown",
   "id": "524b65f8",
   "metadata": {},
   "source": [
    "#### 29. How to round away from zero a float array ? (★☆☆)"
   ]
  },
  {
   "cell_type": "code",
   "execution_count": 56,
   "id": "61fbb78e",
   "metadata": {},
   "outputs": [
    {
     "name": "stdout",
     "output_type": "stream",
     "text": [
      "[1. 2. 3. 4. 6.]\n"
     ]
    }
   ],
   "source": [
    "array = np.array([1.34,2.44,3.22,4.44,5.55])\n",
    "round_arr = np.round(array)\n",
    "print(round_arr)"
   ]
  },
  {
   "cell_type": "markdown",
   "id": "8dc40752",
   "metadata": {},
   "source": [
    "#### 30. How to find common values between two arrays? (★☆☆)"
   ]
  },
  {
   "cell_type": "code",
   "execution_count": 57,
   "id": "54399cbe",
   "metadata": {},
   "outputs": [
    {
     "name": "stdout",
     "output_type": "stream",
     "text": [
      "[5 6]\n"
     ]
    }
   ],
   "source": [
    "arr1 = np.array([1,2,3,4,5,6])\n",
    "arr2 = np.array([5,6,7,8,9,10])\n",
    "\n",
    "print(np.intersect1d(arr1, arr2))"
   ]
  },
  {
   "cell_type": "markdown",
   "id": "b7f38e21",
   "metadata": {},
   "source": [
    "#### 31. How to ignore all numpy warnings (not recommended)? (★☆☆)"
   ]
  },
  {
   "cell_type": "code",
   "execution_count": 58,
   "id": "2ca3289c",
   "metadata": {},
   "outputs": [],
   "source": [
    "#np.seterr(all=\"ignore\")"
   ]
  },
  {
   "cell_type": "markdown",
   "id": "2d850aab",
   "metadata": {
    "tags": []
   },
   "source": [
    "#### 32. Is the following expressions true? (★☆☆)\n",
    "```python\n",
    "np.sqrt(-1) == np.emath.sqrt(-1)\n",
    "```"
   ]
  },
  {
   "cell_type": "code",
   "execution_count": 59,
   "id": "5c83ffce",
   "metadata": {},
   "outputs": [],
   "source": [
    "#no"
   ]
  },
  {
   "cell_type": "markdown",
   "id": "5c4a556f",
   "metadata": {},
   "source": [
    "#### 33. How to get the dates of yesterday, today and tomorrow? (★☆☆)"
   ]
  },
  {
   "cell_type": "code",
   "execution_count": 60,
   "id": "c3b683a0",
   "metadata": {},
   "outputs": [
    {
     "name": "stdout",
     "output_type": "stream",
     "text": [
      "today: 2022-10-31\n",
      "yesterday: 2022-10-30\n",
      "tomorrow: 2022-11-01\n",
      "\n"
     ]
    }
   ],
   "source": [
    "today = np.datetime64('today')\n",
    "yesterday = np.datetime64('today') - np.timedelta64(1, 'D')\n",
    "tomorrow = np.datetime64('today') + np.timedelta64(1, 'D')\n",
    "\n",
    "print(f\"today: {today}\\nyesterday: {yesterday}\\ntomorrow: {tomorrow}\\n\")"
   ]
  },
  {
   "cell_type": "markdown",
   "id": "453cdd64",
   "metadata": {},
   "source": [
    "#### 34. How to get all the dates corresponding to the month of July 2016? (★★☆)"
   ]
  },
  {
   "cell_type": "code",
   "execution_count": 61,
   "id": "4ba4d37c",
   "metadata": {},
   "outputs": [
    {
     "name": "stdout",
     "output_type": "stream",
     "text": [
      "July 2016\n",
      "['2016-07-01' '2016-07-02' '2016-07-03' '2016-07-04' '2016-07-05'\n",
      " '2016-07-06' '2016-07-07' '2016-07-08' '2016-07-09' '2016-07-10'\n",
      " '2016-07-11' '2016-07-12' '2016-07-13' '2016-07-14' '2016-07-15'\n",
      " '2016-07-16' '2016-07-17' '2016-07-18' '2016-07-19' '2016-07-20'\n",
      " '2016-07-21' '2016-07-22' '2016-07-23' '2016-07-24' '2016-07-25'\n",
      " '2016-07-26' '2016-07-27' '2016-07-28' '2016-07-29' '2016-07-30'\n",
      " '2016-07-31']\n"
     ]
    }
   ],
   "source": [
    "print(\"July 2016\")\n",
    "print(np.arange('2016-07', '2016-08', dtype='datetime64[D]'))"
   ]
  },
  {
   "cell_type": "markdown",
   "id": "52667b6e",
   "metadata": {
    "tags": []
   },
   "source": [
    "#### 35. How to compute ((A+B)*(-A/2)) in place (without copy)? (★★☆)"
   ]
  },
  {
   "cell_type": "code",
   "execution_count": 62,
   "id": "e6e7c030",
   "metadata": {},
   "outputs": [
    {
     "name": "stdout",
     "output_type": "stream",
     "text": [
      "[[-1024.  -1172.   -852.  -1317.5 -1312.5]\n",
      " [-1509.  -1064.5 -1113.5 -1496.  -1708.5]\n",
      " [ -924.5 -1214.   -844.  -1398.  -1404. ]\n",
      " [ -906.   -921.   -770.  -1021.  -1082. ]\n",
      " [-1528.5 -1464.  -1011.  -1533.  -1737. ]]\n"
     ]
    }
   ],
   "source": [
    "mat_A = np.random.randint(0, 30, size=(5, 5))\n",
    "mat_B = np.random.randint(0, 30, size=(5, 5))\n",
    "\n",
    "print(np.add(mat_A, mat_B).dot(-mat_A / 2))"
   ]
  },
  {
   "cell_type": "markdown",
   "id": "9a8f3738",
   "metadata": {},
   "source": [
    "#### 36. Extract the integer part of a random array of positive numbers using 4 different methods (★★☆)"
   ]
  },
  {
   "cell_type": "code",
   "execution_count": 63,
   "id": "368a801a",
   "metadata": {},
   "outputs": [
    {
     "name": "stdout",
     "output_type": "stream",
     "text": [
      "[24. 28. 29. 22. 23. 20. 29. 22. 16. 13. 16.  4. 19.  9.  1. 22. 26. 29.\n",
      "  9. 12. 17. 14. 27. 27. 19.  3.  4. 12.  9. 20.  2.  7. 25.  3. 29. 29.]\n",
      "[23. 27. 28. 21. 22. 19. 28. 21. 15. 12. 15.  3. 18.  8.  0. 21. 25. 28.\n",
      "  8. 11. 16. 13. 26. 26. 18.  2.  3. 11.  8. 19.  1.  6. 24.  2. 28. 28.]\n",
      "[24. 28. 29. 22. 23. 20. 29. 22. 16. 13. 16.  4. 19.  9.  1. 22. 26. 29.\n",
      "  9. 12. 17. 14. 27. 27. 19.  3.  4. 12.  9. 20.  2.  7. 25.  3. 29. 29.]\n",
      "[24 28 29 22 23 20 29 22 16 13 16  4 19  9  1 22 26 29  9 12 17 14 27 27\n",
      " 19  3  4 12  9 20  2  7 25  3 29 29]\n",
      "[24 28 29 22 23 20 29 22 16 13 16  4 19  9  1 22 26 29  9 12 17 14 27 27\n",
      " 19  3  4 12  9 20  2  7 25  3 29 29]\n"
     ]
    }
   ],
   "source": [
    "arr = np.random.randint(0, 30, 36)\n",
    "\n",
    "print(np.floor(arr))\n",
    "print(np.ceil(arr)-1)\n",
    "print(np.trunc(arr))\n",
    "print(arr.astype(int))\n",
    "print(arr - arr%1)"
   ]
  },
  {
   "cell_type": "markdown",
   "id": "cab1eed1",
   "metadata": {},
   "source": [
    "#### 37. Create a 5x5 matrix with row values ranging from 0 to 4 (★★☆)"
   ]
  },
  {
   "cell_type": "code",
   "execution_count": 64,
   "id": "f1b579ba",
   "metadata": {},
   "outputs": [
    {
     "name": "stdout",
     "output_type": "stream",
     "text": [
      "[[0 1 2 3 4]\n",
      " [0 1 2 3 4]\n",
      " [0 1 2 3 4]\n",
      " [0 1 2 3 4]\n",
      " [0 1 2 3 4]]\n"
     ]
    }
   ],
   "source": [
    "print(np.tile(np.arange(5), (5,1)))"
   ]
  },
  {
   "cell_type": "markdown",
   "id": "cd0ce6b1",
   "metadata": {},
   "source": [
    "#### 38. Consider a generator function that generates 10 integers and use it to build an array (★☆☆)"
   ]
  },
  {
   "cell_type": "code",
   "execution_count": 65,
   "id": "aab193a6",
   "metadata": {},
   "outputs": [
    {
     "name": "stdout",
     "output_type": "stream",
     "text": [
      "[0 1 2 3 4 5 6 7 8 9]\n"
     ]
    }
   ],
   "source": [
    "def generate(size):\n",
    "    for i in range(size):\n",
    "        yield i\n",
    "        \n",
    "array = np.fromiter(generate(10),dtype=int)\n",
    "print(array)"
   ]
  },
  {
   "cell_type": "markdown",
   "id": "c4c942d1",
   "metadata": {},
   "source": [
    "#### 39. Create a vector of size 10 with values ranging from 0 to 1, both excluded (★★☆)"
   ]
  },
  {
   "cell_type": "code",
   "execution_count": 66,
   "id": "e42eaa4b",
   "metadata": {},
   "outputs": [
    {
     "name": "stdout",
     "output_type": "stream",
     "text": [
      "[0.09090909 0.18181818 0.27272727 0.36363636 0.45454545 0.54545455\n",
      " 0.63636364 0.72727273 0.81818182 0.90909091]\n"
     ]
    }
   ],
   "source": [
    "vector = np.linspace(0,1,11,endpoint=False)[1:]\n",
    "print(vector)"
   ]
  },
  {
   "cell_type": "markdown",
   "id": "9b3cb8d2",
   "metadata": {},
   "source": [
    "#### 40. Create a random vector of size 10 and sort it (★★☆)"
   ]
  },
  {
   "cell_type": "code",
   "execution_count": 67,
   "id": "37d2b341",
   "metadata": {},
   "outputs": [
    {
     "name": "stdout",
     "output_type": "stream",
     "text": [
      "[ 0  6  9 16 17 17 21 21 23 28]\n"
     ]
    }
   ],
   "source": [
    "vector = np.random.randint(0, 30, 10)\n",
    "vector.sort()\n",
    "print(vector)"
   ]
  },
  {
   "cell_type": "markdown",
   "id": "2facfddc",
   "metadata": {},
   "source": [
    "#### 41. How to sum a small array faster than np.sum? (★★☆)"
   ]
  },
  {
   "cell_type": "code",
   "execution_count": null,
   "id": "4bb8864f",
   "metadata": {},
   "outputs": [],
   "source": []
  },
  {
   "cell_type": "markdown",
   "id": "539cd2a5",
   "metadata": {},
   "source": [
    "#### 42. Consider two random array A and B, check if they are equal (★★☆)"
   ]
  },
  {
   "cell_type": "code",
   "execution_count": 68,
   "id": "5246d7bf",
   "metadata": {},
   "outputs": [
    {
     "name": "stdout",
     "output_type": "stream",
     "text": [
      "False\n",
      "True\n"
     ]
    }
   ],
   "source": [
    "A = np.random.randint(0, 30, 10)\n",
    "B = np.random.randint(0, 30, 10)\n",
    "\n",
    "print(np.array_equal(A,B))\n",
    "\n",
    "A = np.array([7,2,3,4,1])\n",
    "B = np.array([7,2,3,4,1])\n",
    "\n",
    "print(np.array_equal(A,B))"
   ]
  },
  {
   "cell_type": "markdown",
   "id": "448f8274",
   "metadata": {},
   "source": [
    "#### 43. Make an array immutable (read-only) (★★☆)"
   ]
  },
  {
   "cell_type": "code",
   "execution_count": 69,
   "id": "7cf2b3dd",
   "metadata": {},
   "outputs": [
    {
     "ename": "ValueError",
     "evalue": "assignment destination is read-only",
     "output_type": "error",
     "traceback": [
      "\u001b[1;31m---------------------------------------------------------------------------\u001b[0m",
      "\u001b[1;31mValueError\u001b[0m                                Traceback (most recent call last)",
      "Cell \u001b[1;32mIn [69], line 3\u001b[0m\n\u001b[0;32m      1\u001b[0m read_only \u001b[38;5;241m=\u001b[39m np\u001b[38;5;241m.\u001b[39mrandom\u001b[38;5;241m.\u001b[39mrandint(\u001b[38;5;241m0\u001b[39m, \u001b[38;5;241m30\u001b[39m, \u001b[38;5;241m10\u001b[39m)\n\u001b[0;32m      2\u001b[0m read_only\u001b[38;5;241m.\u001b[39mflags\u001b[38;5;241m.\u001b[39mwriteable \u001b[38;5;241m=\u001b[39m \u001b[38;5;28;01mFalse\u001b[39;00m\n\u001b[1;32m----> 3\u001b[0m read_only[\u001b[38;5;241m0\u001b[39m] \u001b[38;5;241m=\u001b[39m \u001b[38;5;241m15\u001b[39m\n",
      "\u001b[1;31mValueError\u001b[0m: assignment destination is read-only"
     ]
    }
   ],
   "source": [
    "read_only = np.random.randint(0, 30, 10)\n",
    "read_only.flags.writeable = False\n",
    "read_only[0] = 15"
   ]
  },
  {
   "cell_type": "markdown",
   "id": "d7b7aaf3",
   "metadata": {},
   "source": [
    "#### 44. Consider a random 10x2 matrix representing cartesian coordinates, convert them to polar coordinates (★★☆)"
   ]
  },
  {
   "cell_type": "code",
   "execution_count": 70,
   "id": "e2337585",
   "metadata": {},
   "outputs": [
    {
     "name": "stdout",
     "output_type": "stream",
     "text": [
      "r: [0.98473836 0.94186382 0.07622702 0.89505547 0.86368467 1.23367626\n",
      " 0.88060932 0.28067132 1.17165221 1.1915353 ]\n",
      "\n",
      "theta:[1.05173005 0.30064669 1.07072525 0.77886271 1.17847612 0.9352773\n",
      " 0.27782388 1.34054276 0.91194863 0.72714807]\n"
     ]
    }
   ],
   "source": [
    "cartesian_coords = np.random.random((10,2))\n",
    "\n",
    "x_coords = cartesian_coords[:,0]\n",
    "y_coords = cartesian_coords[:,1]\n",
    "\n",
    "r_coords = np.sqrt(x_coords ** 2 + y_coords ** 2)\n",
    "theta_coords = np.arctan2(y_coords,x_coords)\n",
    "\n",
    "print(f\"r: {r_coords}\\n\\ntheta:{theta_coords}\")"
   ]
  },
  {
   "cell_type": "markdown",
   "id": "a556027a",
   "metadata": {},
   "source": [
    "#### 45. Create random vector of size 10 and replace the maximum value by 0 (★★☆)"
   ]
  },
  {
   "cell_type": "code",
   "execution_count": 71,
   "id": "9e07cb87",
   "metadata": {},
   "outputs": [
    {
     "name": "stdout",
     "output_type": "stream",
     "text": [
      "[ 1 16  9 29 28 13 17 27  6 20]\n",
      "[ 1 16  9  0 28 13 17 27  6 20]\n"
     ]
    }
   ],
   "source": [
    "vector = np.random.randint(0, 30, 10)\n",
    "\n",
    "print(vector)\n",
    "\n",
    "vector[np.where(vector == vector.max())] = 0\n",
    "\n",
    "print(vector)"
   ]
  },
  {
   "cell_type": "markdown",
   "id": "004f3da1",
   "metadata": {},
   "source": [
    "#### 46. Create a structured array with `x` and `y` coordinates covering the [0,1]x[0,1] area (★★☆)"
   ]
  },
  {
   "cell_type": "code",
   "execution_count": 72,
   "id": "b3824741",
   "metadata": {},
   "outputs": [
    {
     "name": "stdout",
     "output_type": "stream",
     "text": [
      "[[(0.  , 0.  ) (0.25, 0.  ) (0.5 , 0.  ) (0.75, 0.  ) (1.  , 0.  )]\n",
      " [(0.  , 0.25) (0.25, 0.25) (0.5 , 0.25) (0.75, 0.25) (1.  , 0.25)]\n",
      " [(0.  , 0.5 ) (0.25, 0.5 ) (0.5 , 0.5 ) (0.75, 0.5 ) (1.  , 0.5 )]\n",
      " [(0.  , 0.75) (0.25, 0.75) (0.5 , 0.75) (0.75, 0.75) (1.  , 0.75)]\n",
      " [(0.  , 1.  ) (0.25, 1.  ) (0.5 , 1.  ) (0.75, 1.  ) (1.  , 1.  )]]\n"
     ]
    }
   ],
   "source": [
    "coords = np.zeros((5,5), [('x',float),('y',float)])\n",
    "\n",
    "coords['x'], coords['y'] = np.meshgrid(np.linspace(0,1,5), np.linspace(0,1,5))\n",
    "print(coords)"
   ]
  },
  {
   "cell_type": "markdown",
   "id": "1c0adc0d",
   "metadata": {},
   "source": [
    "#### 47. Given two arrays, X and Y, construct the Cauchy matrix C (Cij =1/(xi - yj)) (★★☆)"
   ]
  },
  {
   "cell_type": "code",
   "execution_count": 73,
   "id": "01b3bbb7",
   "metadata": {},
   "outputs": [
    {
     "name": "stdout",
     "output_type": "stream",
     "text": [
      "[[ 0.08333333  0.03846154  0.09090909  0.16666667  0.03703704  0.1\n",
      "   0.04761905  0.5         0.04        0.07692308]\n",
      " [-0.1         0.25       -0.09090909 -0.0625      0.2        -0.08333333\n",
      "  -1.         -0.05        0.33333333 -0.11111111]\n",
      " [ 0.08333333  0.03846154  0.09090909  0.16666667  0.03703704  0.1\n",
      "   0.04761905  0.5         0.04        0.07692308]\n",
      " [-0.14285714  0.14285714 -0.125      -0.07692308  0.125      -0.11111111\n",
      "   0.5        -0.05882353  0.16666667 -0.16666667]\n",
      " [ 0.08333333  0.03846154  0.09090909  0.16666667  0.03703704  0.1\n",
      "   0.04761905  0.5         0.04        0.07692308]\n",
      " [-0.08333333  0.5        -0.07692308 -0.05555556  0.33333333 -0.07142857\n",
      "  -0.33333333 -0.04545455  1.         -0.09090909]\n",
      " [-0.09090909  0.33333333 -0.08333333 -0.05882353  0.25       -0.07692308\n",
      "  -0.5        -0.04761905  0.5        -0.1       ]\n",
      " [ 0.07692308  0.03703704  0.08333333  0.14285714  0.03571429  0.09090909\n",
      "   0.04545455  0.33333333  0.03846154  0.07142857]\n",
      " [ 0.125       0.04545455  0.14285714  0.5         0.04347826  0.16666667\n",
      "   0.05882353 -0.5         0.04761905  0.11111111]\n",
      " [-0.11111111  0.2        -0.1        -0.06666667  0.16666667 -0.09090909\n",
      "          inf -0.05263158  0.25       -0.125     ]]\n"
     ]
    },
    {
     "name": "stderr",
     "output_type": "stream",
     "text": [
      "C:\\Users\\Vitalii\\AppData\\Local\\Temp\\ipykernel_12784\\338302039.py:8: RuntimeWarning: divide by zero encountered in divide\n",
      "  cauchy_matrix = 1.0 / diff_matrix\n"
     ]
    }
   ],
   "source": [
    "X_arr = np.random.randint(0, 30, 10)\n",
    "Y_arr = np.random.randint(0, 30, 10)\n",
    "\n",
    "X_arr = X_arr.reshape((-1,1))\n",
    "\n",
    "diff_matrix = X_arr - Y_arr\n",
    "\n",
    "cauchy_matrix = 1.0 / diff_matrix\n",
    "print(cauchy_matrix)"
   ]
  },
  {
   "cell_type": "markdown",
   "id": "c8a2f65a",
   "metadata": {},
   "source": [
    "#### 48. Print the minimum and maximum representable value for each numpy scalar type (★★☆)"
   ]
  },
  {
   "cell_type": "code",
   "execution_count": 74,
   "id": "35d844d6",
   "metadata": {},
   "outputs": [
    {
     "name": "stdout",
     "output_type": "stream",
     "text": [
      "-128\n",
      "127\n",
      "-2147483648\n",
      "2147483647\n",
      "-9223372036854775808\n",
      "9223372036854775807\n",
      "-3.4028235e+38\n",
      "3.4028235e+38\n",
      "1.1920929e-07\n",
      "-1.7976931348623157e+308\n",
      "1.7976931348623157e+308\n",
      "2.220446049250313e-16\n"
     ]
    }
   ],
   "source": [
    "for dtype in [np.int8, np.int32, np.int64]:\n",
    "   print(np.iinfo(dtype).min)\n",
    "   print(np.iinfo(dtype).max)\n",
    "for dtype in [np.float32, np.float64]:\n",
    "   print(np.finfo(dtype).min)\n",
    "   print(np.finfo(dtype).max)\n",
    "   print(np.finfo(dtype).eps)"
   ]
  },
  {
   "cell_type": "markdown",
   "id": "11727a69",
   "metadata": {},
   "source": [
    "#### 49. How to print all the values of an array? (★★☆)"
   ]
  },
  {
   "cell_type": "code",
   "execution_count": 75,
   "id": "47e98473",
   "metadata": {},
   "outputs": [
    {
     "name": "stdout",
     "output_type": "stream",
     "text": [
      "[25  4 14 11 17 20  8  6  8  8]\n"
     ]
    }
   ],
   "source": [
    "array = np.random.randint(0, 30, 10)\n",
    "print(array)"
   ]
  },
  {
   "cell_type": "markdown",
   "id": "e0e7d741",
   "metadata": {},
   "source": [
    "#### 50. How to find the closest value (to a given scalar) in a vector? (★★☆)"
   ]
  },
  {
   "cell_type": "code",
   "execution_count": 76,
   "id": "62cabf6f",
   "metadata": {},
   "outputs": [
    {
     "name": "stdout",
     "output_type": "stream",
     "text": [
      "Closest value to scalar: 5 is value: 8 with index: 5 from vector:\n",
      "[10 26 13 23 21  8 25 19  1 24]\n"
     ]
    }
   ],
   "source": [
    "vector = np.random.randint(0, 30, 10)\n",
    "scalar = np.random.randint(30)\n",
    "\n",
    "index = (np.abs(vector-scalar)).argmin()\n",
    "print(f\"Closest value to scalar: {scalar} is value: {vector[index]} with index: {index} from vector:\\n{vector}\")"
   ]
  },
  {
   "cell_type": "markdown",
   "id": "c5611b9e",
   "metadata": {},
   "source": [
    "#### 51. Create a structured array representing a position (x,y) and a color (r,g,b) (★★☆)"
   ]
  },
  {
   "cell_type": "code",
   "execution_count": 77,
   "id": "f622939d",
   "metadata": {},
   "outputs": [
    {
     "name": "stdout",
     "output_type": "stream",
     "text": [
      "[[((0., 0.), (0, 0, 0)) ((0., 0.), (0, 0, 0)) ((0., 0.), (0, 0, 0))]\n",
      " [((0., 0.), (0, 0, 0)) ((0., 0.), (0, 0, 0)) ((0., 0.), (0, 0, 0))]\n",
      " [((0., 0.), (0, 0, 0)) ((0., 0.), (0, 0, 0)) ((0., 0.), (0, 0, 0))]\n",
      " [((0., 0.), (0, 0, 0)) ((0., 0.), (0, 0, 0)) ((0., 0.), (0, 0, 0))]\n",
      " [((0., 0.), (0, 0, 0)) ((0., 0.), (0, 0, 0)) ((0., 0.), (0, 0, 0))]\n",
      " [((0., 0.), (0, 0, 0)) ((0., 0.), (0, 0, 0)) ((0., 0.), (0, 0, 0))]]\n"
     ]
    }
   ],
   "source": [
    "rgb_pos_dt = np.dtype([\n",
    "    ('position', [ \n",
    "        ('x', 'f4'),\n",
    "        ('y', 'f4')\n",
    "    ]),\n",
    "    ('color', [\n",
    "        ('r', 'u1'),\n",
    "        ('g', 'u1'),\n",
    "        ('b', 'u1')\n",
    "    ])\n",
    "])\n",
    "\n",
    "\n",
    "matrix = np.zeros((6,3), rgb_pos_dt)\n",
    "print(matrix)"
   ]
  },
  {
   "cell_type": "markdown",
   "id": "d22b8574",
   "metadata": {},
   "source": [
    "#### 52. Consider a random vector with shape (100,2) representing coordinates, find point by point distances (★★☆)"
   ]
  },
  {
   "cell_type": "code",
   "execution_count": 78,
   "id": "d5c9cdf8",
   "metadata": {},
   "outputs": [
    {
     "name": "stdout",
     "output_type": "stream",
     "text": [
      "[[0.         0.34377313 0.18625301 ... 0.46828382 0.79629496 0.63754701]\n",
      " [0.34377313 0.         0.52220297 ... 0.46018298 0.83823887 0.29572813]\n",
      " [0.18625301 0.52220297 0.         ... 0.51093673 0.76793801 0.81038661]\n",
      " ...\n",
      " [0.46828382 0.46018298 0.51093673 ... 0.         0.37843673 0.59449102]\n",
      " [0.79629496 0.83823887 0.76793801 ... 0.37843673 0.         0.93568475]\n",
      " [0.63754701 0.29572813 0.81038661 ... 0.59449102 0.93568475 0.        ]]\n"
     ]
    }
   ],
   "source": [
    "vector = np.random.random((100,2))\n",
    "\n",
    "x, y = np.atleast_2d(vector[:,0], vector[:,1])\n",
    "distance = np.sqrt( (x-x.T)**2 + (y-y.T)**2)\n",
    "\n",
    "print(distance)\n"
   ]
  },
  {
   "cell_type": "markdown",
   "id": "f5c164f2",
   "metadata": {},
   "source": [
    "#### 53. How to convert a float (32 bits) array into an integer (32 bits) in place?"
   ]
  },
  {
   "cell_type": "code",
   "execution_count": 79,
   "id": "ea262de8",
   "metadata": {},
   "outputs": [
    {
     "name": "stdout",
     "output_type": "stream",
     "text": [
      "[0 1 2 3 4 5 6 7 8 9]\n"
     ]
    }
   ],
   "source": [
    "array = np.arange(10, dtype=np.float32)\n",
    "\n",
    "array = array.astype(np.int32, copy=False)\n",
    "\n",
    "print(array)"
   ]
  },
  {
   "cell_type": "markdown",
   "id": "a8b7e6f5",
   "metadata": {},
   "source": [
    "#### 54. How to read the following file? (★★☆)\n",
    "```\n",
    "1, 2, 3, 4, 5\n",
    "6,  ,  , 7, 8\n",
    " ,  , 9,10,11\n",
    "```"
   ]
  },
  {
   "cell_type": "code",
   "execution_count": 80,
   "id": "bde0538a",
   "metadata": {},
   "outputs": [
    {
     "name": "stdout",
     "output_type": "stream",
     "text": [
      "[[ 1  2  3  4  5]\n",
      " [ 6 -1 -1  7  8]\n",
      " [-1 -1  9 10 11]]\n"
     ]
    }
   ],
   "source": [
    "from io import StringIO\n",
    "\n",
    "\n",
    "some_file = StringIO(\"\"\"1, 2, 3, 4, 5\\n\n",
    "                        6,  ,  , 7, 8\\n\n",
    "                         ,  , 9,10,11\\n\"\"\")\n",
    "\n",
    "imported_array = np.genfromtxt(some_file, delimiter=\",\", dtype=int)\n",
    "print(imported_array)"
   ]
  },
  {
   "cell_type": "markdown",
   "id": "c6b32834",
   "metadata": {},
   "source": [
    "#### 55. What is the equivalent of enumerate for numpy arrays? (★★☆)"
   ]
  },
  {
   "cell_type": "code",
   "execution_count": 81,
   "id": "ab02472a",
   "metadata": {},
   "outputs": [
    {
     "name": "stdout",
     "output_type": "stream",
     "text": [
      "(0, 0) 26\n",
      "(0, 1) 5\n",
      "(0, 2) 16\n",
      "(1, 0) 15\n",
      "(1, 1) 25\n",
      "(1, 2) 16\n",
      "(2, 0) 11\n",
      "(2, 1) 10\n",
      "(2, 2) 13\n",
      "(0, 0) 26\n",
      "(0, 1) 5\n",
      "(0, 2) 16\n",
      "(1, 0) 15\n",
      "(1, 1) 25\n",
      "(1, 2) 16\n",
      "(2, 0) 11\n",
      "(2, 1) 10\n",
      "(2, 2) 13\n"
     ]
    }
   ],
   "source": [
    "matrix = np.random.randint(0, 30, size=(3,3))\n",
    "\n",
    "for index, value in np.ndenumerate(matrix):\n",
    "    print(index, value)\n",
    "    \n",
    "for index in np.ndindex(matrix.shape):\n",
    "    print(index, matrix[index])"
   ]
  },
  {
   "cell_type": "markdown",
   "id": "a2121a05",
   "metadata": {},
   "source": [
    "#### 56. Generate a generic 2D Gaussian-like array (★★☆)"
   ]
  },
  {
   "cell_type": "code",
   "execution_count": 82,
   "id": "18507102",
   "metadata": {},
   "outputs": [
    {
     "name": "stdout",
     "output_type": "stream",
     "text": [
      "[[0.55734435 0.53218039 0.43032753 0.40574721 0.46571986 0.64132157\n",
      "  0.60040563 0.45033542 0.45555728 0.63519339]\n",
      " [0.67332479 0.64292434 0.51987643 0.49018108 0.56263372 0.77477722\n",
      "  0.72534689 0.54404786 0.55035636 0.7673738 ]\n",
      " [0.86216697 0.82324033 0.66568213 0.62765836 0.72043123 0.99207298\n",
      "  0.9287793  0.69663274 0.70471053 0.98259317]\n",
      " [0.66902183 0.63881565 0.51655409 0.48704852 0.55903814 0.76982592\n",
      "  0.72071147 0.54057106 0.54683924 0.7624698 ]\n",
      " [0.70775936 0.6758042  0.54646348 0.51524948 0.59140743 0.81440018\n",
      "  0.76244193 0.57187107 0.57850219 0.80661814]\n",
      " [0.79416219 0.75830595 0.6131754  0.57815082 0.66360608 0.91382166\n",
      "  0.85552036 0.64168474 0.64912538 0.90508958]\n",
      " [0.59948338 0.57241685 0.46286322 0.43642447 0.50093146 0.68980985\n",
      "  0.64580038 0.48438385 0.49000051 0.68321833]\n",
      " [0.54290391 0.51839193 0.41917801 0.39523456 0.45365335 0.62470533\n",
      "  0.58484949 0.43866751 0.44375407 0.61873592]\n",
      " [0.83287026 0.79526636 0.64306204 0.60633033 0.69595075 0.95836202\n",
      "  0.89721908 0.67296094 0.68076424 0.94920434]\n",
      " [0.81334322 0.77662097 0.62798515 0.59211463 0.67963386 0.93589277\n",
      "  0.87618336 0.65718305 0.66480341 0.9269498 ]]\n"
     ]
    }
   ],
   "source": [
    "x, y = np.meshgrid(np.random.random(10), np.random.random(10))\n",
    "\n",
    "sigma = 1.0 \n",
    "mu = 0.0\n",
    "\n",
    "gaussian = np.exp(-((np.sqrt(x*x+y*y)-mu)**2/(2.0 * sigma**2)))\n",
    "print(gaussian)\n",
    "\n"
   ]
  },
  {
   "cell_type": "markdown",
   "id": "97055efa",
   "metadata": {},
   "source": [
    "#### 57. How to randomly place p elements in a 2D array? (★★☆)"
   ]
  },
  {
   "cell_type": "code",
   "execution_count": 83,
   "id": "292e842f",
   "metadata": {},
   "outputs": [
    {
     "name": "stdout",
     "output_type": "stream",
     "text": [
      "[[0. 0. 0. 0. 0. 0. 0. 0. 0. 0.]\n",
      " [0. 0. 0. 0. 0. 0. 0. 0. 0. 0.]\n",
      " [0. 0. 0. 0. 0. 0. 0. 0. 0. 0.]\n",
      " [0. 0. 0. 0. 0. 0. 0. 0. 0. 0.]\n",
      " [0. 0. 0. 0. 0. 0. 0. 0. 0. 0.]\n",
      " [0. 0. 0. 0. 0. 0. 0. 0. 0. 0.]\n",
      " [0. 0. 0. 0. 0. 0. 7. 0. 0. 0.]\n",
      " [0. 0. 0. 0. 0. 0. 0. 0. 0. 0.]\n",
      " [0. 0. 0. 0. 0. 0. 0. 0. 0. 0.]\n",
      " [0. 0. 0. 0. 0. 0. 0. 0. 0. 0.]]\n"
     ]
    }
   ],
   "source": [
    "matrix = np.zeros((10,10))\n",
    "count_of_replacements = 1\n",
    "replacer_num = 7\n",
    "np.put(matrix, np.random.choice(matrix.size, count_of_replacements, replace=False), replacer_num)\n",
    "print(matrix)"
   ]
  },
  {
   "cell_type": "markdown",
   "id": "bfd2513c",
   "metadata": {},
   "source": [
    "#### 58. Subtract the mean of each row of a matrix (★★☆)"
   ]
  },
  {
   "cell_type": "code",
   "execution_count": 84,
   "id": "f306ab72",
   "metadata": {},
   "outputs": [
    {
     "name": "stdout",
     "output_type": "stream",
     "text": [
      "[[ 14.2   3.2  -0.8   9.2  -0.8   0.2  -6.8  -1.8  -7.8  -8.8]\n",
      " [ -8.3  13.7  12.7 -10.3  -9.3   5.7 -12.3  -8.3   5.7  10.7]\n",
      " [  6.8   3.8  -4.2  -3.2  -0.2  -2.2 -13.2  -2.2  14.8  -0.2]\n",
      " [ -2.2   0.8 -13.2  11.8   7.8   2.8  -2.2  -4.2   9.8 -11.2]\n",
      " [  6.7   7.7   3.7  -5.3  -5.3   5.7  -3.3 -15.3   5.7  -0.3]]\n"
     ]
    }
   ],
   "source": [
    "matrix = np.random.randint(0, 30, size=(5,10))\n",
    "mean = matrix - matrix.mean(axis=1, keepdims=True)\n",
    "\n",
    "print(mean)"
   ]
  },
  {
   "cell_type": "markdown",
   "id": "da9f2f9b",
   "metadata": {},
   "source": [
    "#### 59. How to sort an array by the nth column? (★★☆)"
   ]
  },
  {
   "cell_type": "code",
   "execution_count": 85,
   "id": "68cde57f",
   "metadata": {},
   "outputs": [
    {
     "name": "stdout",
     "output_type": "stream",
     "text": [
      "[[ 8 20 17]\n",
      " [19  5 19]\n",
      " [27 23 19]]\n",
      "[[19  5 19]\n",
      " [ 8 20 17]\n",
      " [27 23 19]]\n"
     ]
    }
   ],
   "source": [
    "matrix = np.random.randint(0,30,(3,3))\n",
    "print(matrix)\n",
    "print(matrix[matrix[:,1].argsort()])"
   ]
  },
  {
   "cell_type": "markdown",
   "id": "5b7be45c",
   "metadata": {},
   "source": [
    "#### 60. How to tell if a given 2D array has null columns? (★★☆)"
   ]
  },
  {
   "cell_type": "code",
   "execution_count": 86,
   "id": "7dbe2c27",
   "metadata": {},
   "outputs": [
    {
     "name": "stdout",
     "output_type": "stream",
     "text": [
      "[[2 1 0 2 0 1 0 1 2 0]\n",
      " [1 0 1 2 2 0 1 1 2 2]\n",
      " [0 1 2 1 1 1 2 2 0 0]]\n",
      "False\n"
     ]
    }
   ],
   "source": [
    "matrix = np.random.randint(0,3,(3,10))\n",
    "print(matrix)\n",
    "print((~matrix.any(axis=0)).any())"
   ]
  },
  {
   "cell_type": "markdown",
   "id": "7c18c02e",
   "metadata": {},
   "source": [
    "#### 61. Find the nearest value from a given value in an array (★★☆)"
   ]
  },
  {
   "cell_type": "code",
   "execution_count": 87,
   "id": "b78ae9c4",
   "metadata": {},
   "outputs": [
    {
     "name": "stdout",
     "output_type": "stream",
     "text": [
      "[338  68  27 317 300 219 280  90  99 323 336 309 339   1   9 284  58 293\n",
      "   5 292  70 260  42  12 121 171 141 164  83 229]\n",
      "9\n"
     ]
    }
   ],
   "source": [
    "array = np.random.randint(0,345,30)\n",
    "value = 8\n",
    "m = array.flat[np.abs(array - value).argmin()]\n",
    "print(array)\n",
    "print(m)"
   ]
  },
  {
   "cell_type": "markdown",
   "id": "8174ba2c",
   "metadata": {},
   "source": [
    "#### 62. Considering two arrays with shape (1,3) and (3,1), how to compute their sum using an iterator? (★★☆)"
   ]
  },
  {
   "cell_type": "code",
   "execution_count": 88,
   "id": "8a18fe57",
   "metadata": {},
   "outputs": [
    {
     "name": "stdout",
     "output_type": "stream",
     "text": [
      "[[ 7  7  6]\n",
      " [ 9  9  8]\n",
      " [11 11 10]]\n"
     ]
    }
   ],
   "source": [
    "arr_1 = np.random.randint(0,10,(1,3))\n",
    "arr_2 = np.random.randint(0,10,(3,1))\n",
    "\n",
    "iterator = np.nditer([arr_1, arr_2, None])\n",
    "\n",
    "for x,y,z in iterator: z[...] = x + y\n",
    "\n",
    "print(iterator.operands[2])"
   ]
  },
  {
   "cell_type": "markdown",
   "id": "9189bd7c",
   "metadata": {},
   "source": [
    "#### 63. Create an array class that has a name attribute (★★☆)"
   ]
  },
  {
   "cell_type": "code",
   "execution_count": 91,
   "id": "1c01ed42",
   "metadata": {},
   "outputs": [
    {
     "name": "stdout",
     "output_type": "stream",
     "text": [
      "Name: cooler array: [8 2 1 7 3 5 7 5 7 7 0 8 6 6 5 1 9 0 6 8 8 5 6 1 6 3 7 9 3 4]\n"
     ]
    }
   ],
   "source": [
    "class NamedArray(np.ndarray):\n",
    "    def __new__(cls, array, name=\"no name\"):\n",
    "        obj = np.asarray(array).view(cls)\n",
    "        obj.name = name\n",
    "        return obj\n",
    "    \n",
    "    def __array_finalize__(self, obj):\n",
    "        if obj is None: \n",
    "            return\n",
    "        self.info = getattr(obj, 'name', \"no name\")\n",
    "        \n",
    "named_array = NamedArray(np.random.randint(0,10,30), \"cooler array\")\n",
    "\n",
    "print(f\"Name: {named_array.name}: {named_array}\")\n"
   ]
  },
  {
   "cell_type": "markdown",
   "id": "f30162d2",
   "metadata": {},
   "source": [
    "#### 64. Consider a given vector, how to add 1 to each element indexed by a second vector (be careful with repeated indices)? (★★★)"
   ]
  },
  {
   "cell_type": "code",
   "execution_count": 97,
   "id": "093ba36f",
   "metadata": {},
   "outputs": [
    {
     "name": "stdout",
     "output_type": "stream",
     "text": [
      "[1. 1. 1. 1. 1. 1. 1. 1. 1. 1.]\n",
      "[9 1 3 7 3 4 1 2 8 4 6 1 5 2 8 9 8 6 7 3]\n",
      "[1. 4. 3. 4. 3. 2. 3. 3. 4. 3.]\n"
     ]
    }
   ],
   "source": [
    "array = np.ones(10)\n",
    "array_of_indices = np.random.randint(0,len(array),20)\n",
    "\n",
    "print(array)\n",
    "print(array_of_indices)\n",
    "np.add.at(array, array_of_indices, 1)\n",
    "\n",
    "print(array)"
   ]
  },
  {
   "cell_type": "markdown",
   "id": "f5b1c584",
   "metadata": {},
   "source": [
    "#### 65. How to accumulate elements of a vector (X) to an array (F) based on an index list (I)? (★★★)"
   ]
  },
  {
   "cell_type": "code",
   "execution_count": 102,
   "id": "c9d92a75",
   "metadata": {},
   "outputs": [
    {
     "name": "stdout",
     "output_type": "stream",
     "text": [
      "[0. 8. 0. 6. 5. 9.]\n"
     ]
    }
   ],
   "source": [
    "index_list = [4,5,1,4,1,3,5]\n",
    "\n",
    "weights_arr_x = [1,2,3,4,5,6,7]\n",
    "\n",
    "occurrences = np.bincount(index_list, weights_arr_x)\n",
    "\n",
    "print(occurrences)"
   ]
  },
  {
   "cell_type": "markdown",
   "id": "994c452d",
   "metadata": {},
   "source": [
    "#### 66. Considering a (w,h,3) image of (dtype=ubyte), compute the number of unique colors (★★☆)"
   ]
  },
  {
   "cell_type": "code",
   "execution_count": 104,
   "id": "269cdaea",
   "metadata": {},
   "outputs": [
    {
     "name": "stdout",
     "output_type": "stream",
     "text": [
      "[[[0 1 0]\n",
      "  [0 0 0]\n",
      "  [0 1 1]\n",
      "  ...\n",
      "  [1 1 1]\n",
      "  [0 1 1]\n",
      "  [1 1 0]]\n",
      "\n",
      " [[1 1 1]\n",
      "  [0 1 1]\n",
      "  [1 1 0]\n",
      "  ...\n",
      "  [0 1 1]\n",
      "  [1 0 1]\n",
      "  [1 1 0]]\n",
      "\n",
      " [[0 1 0]\n",
      "  [0 1 0]\n",
      "  [1 1 1]\n",
      "  ...\n",
      "  [1 1 1]\n",
      "  [0 1 1]\n",
      "  [1 0 1]]\n",
      "\n",
      " ...\n",
      "\n",
      " [[1 0 1]\n",
      "  [0 0 1]\n",
      "  [1 0 1]\n",
      "  ...\n",
      "  [0 1 0]\n",
      "  [1 1 1]\n",
      "  [0 0 0]]\n",
      "\n",
      " [[1 0 0]\n",
      "  [0 1 1]\n",
      "  [1 0 0]\n",
      "  ...\n",
      "  [1 0 0]\n",
      "  [1 1 0]\n",
      "  [0 0 0]]\n",
      "\n",
      " [[1 1 1]\n",
      "  [1 0 1]\n",
      "  [0 1 0]\n",
      "  ...\n",
      "  [0 1 0]\n",
      "  [0 0 0]\n",
      "  [0 1 0]]]\n",
      "8\n"
     ]
    }
   ],
   "source": [
    "width = 32\n",
    "height = 32\n",
    "\n",
    "image = np.random.randint(0,2,(height,width,3)).astype(np.ubyte)\n",
    "\n",
    "print(image)\n",
    "\n",
    "sum_color_pixels = image[...,0]*(256*256) + image[...,1]*256 +image[...,2]\n",
    "unique_count = len(np.unique(sum_color_pixels))\n",
    "\n",
    "print(unique_count)"
   ]
  },
  {
   "cell_type": "markdown",
   "id": "4bddeb31",
   "metadata": {},
   "source": [
    "#### 67. Considering a four dimensions array, how to get sum over the last two axis at once? (★★★)"
   ]
  },
  {
   "cell_type": "code",
   "execution_count": 105,
   "id": "32af15f5",
   "metadata": {},
   "outputs": [
    {
     "name": "stdout",
     "output_type": "stream",
     "text": [
      "[[453 431 382 327 404]\n",
      " [391 375 423 356 390]\n",
      " [392 408 356 433 373]\n",
      " [419 333 360 359 291]\n",
      " [354 372 297 315 419]]\n"
     ]
    }
   ],
   "source": [
    "A = np.random.randint(0,30,(5,5,5,5))\n",
    "\n",
    "sum = A.sum(axis=(-2,-1))\n",
    "print(sum)"
   ]
  },
  {
   "cell_type": "markdown",
   "id": "c4cf083c",
   "metadata": {},
   "source": [
    "#### 68. Considering a one-dimensional vector D, how to compute means of subsets of D using a vector S of same size describing subset  indices? (★★★)"
   ]
  },
  {
   "cell_type": "code",
   "execution_count": 111,
   "id": "9600a2dd",
   "metadata": {},
   "outputs": [
    {
     "name": "stdout",
     "output_type": "stream",
     "text": [
      "[0.5785103  0.70139704 0.6182294  0.6136046  0.57608188 0.37482963\n",
      " 0.64493114 0.45616407 0.46753388 0.48643124]\n"
     ]
    }
   ],
   "source": [
    "vector_D = np.random.rand(100)\n",
    "index_array_S = np.random.randint(0,10,100)\n",
    "\n",
    "sums = np.bincount(index_array_S, vector_D)\n",
    "counts = np.bincount(index_array_S)\n",
    "\n",
    "means = sums / counts\n",
    "\n",
    "print(means)"
   ]
  },
  {
   "cell_type": "markdown",
   "id": "a5e316db",
   "metadata": {},
   "source": [
    "#### 69. How to get the diagonal of a dot product? (★★★)"
   ]
  },
  {
   "cell_type": "code",
   "execution_count": 113,
   "id": "94735dbd",
   "metadata": {},
   "outputs": [
    {
     "name": "stdout",
     "output_type": "stream",
     "text": [
      "[205 189 412 231 259]\n"
     ]
    }
   ],
   "source": [
    "vector_1 = np.random.randint(0,15,(5,5))\n",
    "vector_2 = np.random.randint(0,15,(5,5))\n",
    " \n",
    "print(np.diag(np.dot(vector_1, vector_2)))\n",
    "\n"
   ]
  },
  {
   "cell_type": "markdown",
   "id": "de727a7b",
   "metadata": {},
   "source": [
    "#### 70. Consider the vector [1, 2, 3, 4, 5], how to build a new vector with 3 consecutive zeros interleaved between each value? (★★★)"
   ]
  },
  {
   "cell_type": "code",
   "execution_count": 114,
   "id": "982be812",
   "metadata": {},
   "outputs": [
    {
     "name": "stdout",
     "output_type": "stream",
     "text": [
      "[1. 0. 0. 0. 2. 0. 0. 0. 3. 0. 0. 0. 4. 0. 0. 0. 5.]\n"
     ]
    }
   ],
   "source": [
    "vector = np.array([1,2,3,4,5])\n",
    "\n",
    "zeros_count = 3\n",
    "zero_vector = np.zeros(len(vector) + (len(vector)-1) * (zeros_count))\n",
    "zero_vector[::zeros_count+1] = vector\n",
    "\n",
    "print(zero_vector)"
   ]
  },
  {
   "cell_type": "markdown",
   "id": "a9a73d6b",
   "metadata": {},
   "source": [
    "#### 71. Consider an array of dimension (5,5,3), how to mulitply it by an array with dimensions (5,5)? (★★★)"
   ]
  },
  {
   "cell_type": "code",
   "execution_count": 118,
   "id": "282a90cc",
   "metadata": {},
   "outputs": [
    {
     "name": "stdout",
     "output_type": "stream",
     "text": [
      "[[[15. 15. 15.]\n",
      "  [15. 15. 15.]\n",
      "  [15. 15. 15.]\n",
      "  [15. 15. 15.]\n",
      "  [15. 15. 15.]]\n",
      "\n",
      " [[15. 15. 15.]\n",
      "  [15. 15. 15.]\n",
      "  [15. 15. 15.]\n",
      "  [15. 15. 15.]\n",
      "  [15. 15. 15.]]\n",
      "\n",
      " [[15. 15. 15.]\n",
      "  [15. 15. 15.]\n",
      "  [15. 15. 15.]\n",
      "  [15. 15. 15.]\n",
      "  [15. 15. 15.]]\n",
      "\n",
      " [[15. 15. 15.]\n",
      "  [15. 15. 15.]\n",
      "  [15. 15. 15.]\n",
      "  [15. 15. 15.]\n",
      "  [15. 15. 15.]]\n",
      "\n",
      " [[15. 15. 15.]\n",
      "  [15. 15. 15.]\n",
      "  [15. 15. 15.]\n",
      "  [15. 15. 15.]\n",
      "  [15. 15. 15.]]]\n"
     ]
    }
   ],
   "source": [
    "array_3d = np.ones((5,5,3)) * 5\n",
    "array_2d = np.ones((5,5)) * 3\n",
    "\n",
    "print(array_3d * array_2d[:,:,None])"
   ]
  },
  {
   "cell_type": "markdown",
   "id": "a951c78f",
   "metadata": {},
   "source": [
    "#### 72. How to swap two rows of an array? (★★★)"
   ]
  },
  {
   "cell_type": "code",
   "execution_count": 120,
   "id": "e29b3fde",
   "metadata": {},
   "outputs": [
    {
     "name": "stdout",
     "output_type": "stream",
     "text": [
      "[[ 1 12  5  0  4]\n",
      " [ 5 10  2 14  3]\n",
      " [12  7 13 11  5]\n",
      " [10  7 14  0 14]\n",
      " [11  9 13  9  3]]\n",
      "\n",
      "[[ 5 10  2 14  3]\n",
      " [ 1 12  5  0  4]\n",
      " [12  7 13 11  5]\n",
      " [10  7 14  0 14]\n",
      " [11  9 13  9  3]]\n"
     ]
    }
   ],
   "source": [
    "matrix = np.random.randint(0,15,(5,5))\n",
    "\n",
    "print(f\"{matrix}\\n\")\n",
    "\n",
    "matrix[[0,1]] = matrix[[1,0]]\n",
    "\n",
    "print(matrix)"
   ]
  },
  {
   "cell_type": "markdown",
   "id": "43b639e8",
   "metadata": {},
   "source": [
    "#### 73. Consider a set of 10 triplets describing 10 triangles (with shared vertices), find the set of unique line segments composing all the  triangles (★★★)"
   ]
  },
  {
   "cell_type": "code",
   "execution_count": 126,
   "id": "147e1034",
   "metadata": {},
   "outputs": [
    {
     "name": "stdout",
     "output_type": "stream",
     "text": [
      "[( 7, 57) ( 7, 88) (10, 54) (10, 55) (23, 54) (23, 81) (27, 66) (27, 68)\n",
      " (30, 43) (40, 53) (40, 89) (43, 43) (46, 50) (46, 87) (50, 87) (53, 65)\n",
      " (53, 87) (53, 89) (54, 55) (54, 81) (57, 64) (57, 78) (57, 82) (57, 86)\n",
      " (57, 88) (64, 86) (65, 87) (66, 68) (78, 82)]\n"
     ]
    }
   ],
   "source": [
    "faces = np.random.randint(0,100,(10,3))\n",
    "\n",
    "faces = np.roll(faces.repeat(2,axis=1),-1,axis=1)\n",
    "faces = faces.reshape(len(faces)*3,2)\n",
    "faces = np.sort(faces,axis=1)\n",
    "\n",
    "G = faces.view( dtype=[('p0',faces.dtype),('p1',faces.dtype)] )\n",
    "G = np.unique(G)\n",
    "\n",
    "print(G)"
   ]
  },
  {
   "cell_type": "markdown",
   "id": "d41de585",
   "metadata": {},
   "source": [
    "#### 74. Given a sorted array C that corresponds to a bincount, how to produce an array A such that np.bincount(A) == C? (★★★)"
   ]
  },
  {
   "cell_type": "code",
   "execution_count": 127,
   "id": "5f5d6e36",
   "metadata": {},
   "outputs": [
    {
     "name": "stdout",
     "output_type": "stream",
     "text": [
      "[1 1 2 3 4 4 6]\n"
     ]
    }
   ],
   "source": [
    "sorted_arr = np.bincount([1,1,2,3,4,4,6])\n",
    "\n",
    "array = np.repeat(np.arange(len(sorted_arr)), sorted_arr)\n",
    "\n",
    "print(array)"
   ]
  },
  {
   "cell_type": "markdown",
   "id": "b50adf7c",
   "metadata": {},
   "source": [
    "#### 75. How to compute averages using a sliding window over an array? (★★★)"
   ]
  },
  {
   "cell_type": "code",
   "execution_count": 133,
   "id": "e631a9d2",
   "metadata": {},
   "outputs": [
    {
     "name": "stdout",
     "output_type": "stream",
     "text": [
      "[24.         20.         17.         11.33333333 15.33333333 17.\n",
      " 24.         23.66666667 24.         17.33333333 14.66666667 10.33333333\n",
      " 18.         13.         10.66666667 11.66666667 11.         14.        ]\n"
     ]
    }
   ],
   "source": [
    "num = 3\n",
    "\n",
    "array = np.random.randint(0,30,20)\n",
    "cumulative_sum = np.cumsum(array, dtype = float)\n",
    "cumulative_sum[num:] = cumulative_sum[num:] - cumulative_sum[:-num]\n",
    "\n",
    "print(cumulative_sum[num-1:]/num)"
   ]
  },
  {
   "cell_type": "markdown",
   "id": "1ab4c50d",
   "metadata": {},
   "source": [
    "#### 76. Consider a one-dimensional array Z, build a two-dimensional array whose first row is (Z[0],Z[1],Z[2]) and each subsequent row is  shifted by 1 (last row should be (Z[-3],Z[-2],Z[-1]) (★★★)"
   ]
  },
  {
   "cell_type": "code",
   "execution_count": 143,
   "id": "3ccfe2c0",
   "metadata": {},
   "outputs": [
    {
     "name": "stdout",
     "output_type": "stream",
     "text": [
      "[[18 11 15]\n",
      " [11 15 20]\n",
      " [15 20 14]\n",
      " [20 14 18]\n",
      " [14 18 10]\n",
      " [18 10 26]\n",
      " [10 26  2]\n",
      " [26  2  8]]\n"
     ]
    }
   ],
   "source": [
    "from numpy.lib import stride_tricks\n",
    "\n",
    "window = 3\n",
    "array = np.random.randint(0,30,10)\n",
    "\n",
    "shape = (array.size - window + 1, window)\n",
    "strides = (array.itemsize, array.itemsize)\n",
    "\n",
    "print(stride_tricks.as_strided(array, shape=shape, strides=strides))"
   ]
  },
  {
   "cell_type": "markdown",
   "id": "5b4fe59d",
   "metadata": {},
   "source": [
    "#### 77. How to negate a boolean, or to change the sign of a float inplace? (★★★)"
   ]
  },
  {
   "cell_type": "code",
   "execution_count": 146,
   "id": "3c2373ff",
   "metadata": {},
   "outputs": [
    {
     "name": "stdout",
     "output_type": "stream",
     "text": [
      "[0 0 0 1 1 0 0 1 0 1 1 1 0 0 1 0 1 1 1 0 0 0 0 0 1 1 0 0 1 0 1 1 0 1 1 1 1\n",
      " 0 1 1 0 0 0 0 1 1 0 1 0 1 1 1 0 0 0 1 1 0 0 0 0 1 1 1 0 1 1 1 1 1 0 0 1 1\n",
      " 1 0 1 0 1 0 1 1 0 0 1 0 1 0 0 0 0 0 1 1 1 0 0 1 1 0]\n",
      "[1 1 1 0 0 1 1 0 1 0 0 0 1 1 0 1 0 0 0 1 1 1 1 1 0 0 1 1 0 1 0 0 1 0 0 0 0\n",
      " 1 0 0 1 1 1 1 0 0 1 0 1 0 0 0 1 1 1 0 0 1 1 1 1 0 0 0 1 0 0 0 0 0 1 1 0 0\n",
      " 0 1 0 1 0 1 0 0 1 1 0 1 0 1 1 1 1 1 0 0 0 1 1 0 0 1]\n",
      "\n",
      "[-0.6555314   0.54465524 -0.06634625  0.30909777 -0.44441651 -0.20828711\n",
      " -0.35330816  0.36134711 -0.225154   -0.74404303  0.07775977 -0.56409317\n",
      " -0.13439461  0.11272809  0.19723962  0.91137132  0.8036939  -0.4124873\n",
      " -0.77000677 -0.65385356 -0.42570156 -0.33365322  0.11672379  0.03710872\n",
      "  0.9309643   0.19400957 -0.06199681 -0.70174922  0.2886902   0.35589082\n",
      "  0.78866715  0.32747427  0.06187956 -0.22192838 -0.77201144 -0.62265344\n",
      "  0.60049993  0.40462299  0.06830554  0.6834805   0.22668907  0.8317996\n",
      " -0.19578095 -0.85066012 -0.25900252 -0.68773164 -0.67431629 -0.55562897\n",
      "  0.18282403 -0.19256237  0.43048855  0.17852621  0.4291957  -0.46789921\n",
      "  0.82875753  0.80394889 -0.80489201 -0.29339306 -0.56133668 -0.01544746\n",
      "  0.92705309  0.29531462  0.64328301  0.39207323  0.71888551  0.42331133\n",
      " -0.66237823 -0.3955547   0.61802818  0.12994154 -0.96290197 -0.92095361\n",
      " -0.17733947  0.71308609  0.59484281  0.94373889 -0.01733998 -0.19105255\n",
      "  0.06019025  0.87996356  0.08500775  0.74497375  0.98715828  0.17973029\n",
      " -0.04248439  0.0664415  -0.31855803  0.06965262  0.53912937  0.80619246\n",
      " -0.24769847  0.497074   -0.1546596  -0.32892219  0.96326533 -0.09995119\n",
      "  0.11060585 -0.42206486 -0.58345359  0.88309618]\n",
      "[ 0.6555314  -0.54465524  0.06634625 -0.30909777  0.44441651  0.20828711\n",
      "  0.35330816 -0.36134711  0.225154    0.74404303 -0.07775977  0.56409317\n",
      "  0.13439461 -0.11272809 -0.19723962 -0.91137132 -0.8036939   0.4124873\n",
      "  0.77000677  0.65385356  0.42570156  0.33365322 -0.11672379 -0.03710872\n",
      " -0.9309643  -0.19400957  0.06199681  0.70174922 -0.2886902  -0.35589082\n",
      " -0.78866715 -0.32747427 -0.06187956  0.22192838  0.77201144  0.62265344\n",
      " -0.60049993 -0.40462299 -0.06830554 -0.6834805  -0.22668907 -0.8317996\n",
      "  0.19578095  0.85066012  0.25900252  0.68773164  0.67431629  0.55562897\n",
      " -0.18282403  0.19256237 -0.43048855 -0.17852621 -0.4291957   0.46789921\n",
      " -0.82875753 -0.80394889  0.80489201  0.29339306  0.56133668  0.01544746\n",
      " -0.92705309 -0.29531462 -0.64328301 -0.39207323 -0.71888551 -0.42331133\n",
      "  0.66237823  0.3955547  -0.61802818 -0.12994154  0.96290197  0.92095361\n",
      "  0.17733947 -0.71308609 -0.59484281 -0.94373889  0.01733998  0.19105255\n",
      " -0.06019025 -0.87996356 -0.08500775 -0.74497375 -0.98715828 -0.17973029\n",
      "  0.04248439 -0.0664415   0.31855803 -0.06965262 -0.53912937 -0.80619246\n",
      "  0.24769847 -0.497074    0.1546596   0.32892219 -0.96326533  0.09995119\n",
      " -0.11060585  0.42206486  0.58345359 -0.88309618]\n"
     ]
    }
   ],
   "source": [
    "array = np.random.randint(0,2,100)\n",
    "print(array)\n",
    "print(f\"{np.logical_not(array, out=array)}\\n\")\n",
    "\n",
    "\n",
    "array = np.random.uniform(-1.0,1.0,100)\n",
    "print(array)\n",
    "print(np.negative(array, out=array))"
   ]
  },
  {
   "cell_type": "markdown",
   "id": "119ab5af",
   "metadata": {},
   "source": [
    "#### 78. Consider 2 sets of points P0,P1 describing lines (2d) and a point p, how to compute distance from p to each line i (P0[i],P1[i])? (★★★)"
   ]
  },
  {
   "cell_type": "code",
   "execution_count": 148,
   "id": "1d8d06dc",
   "metadata": {},
   "outputs": [
    {
     "name": "stdout",
     "output_type": "stream",
     "text": [
      "[13.36398414  2.91156944  4.87717251 10.19995375  6.6138477   1.63955191\n",
      "  6.96068124  6.02764884  7.02766209  9.51484384]\n"
     ]
    }
   ],
   "source": [
    "\n",
    "lines_first_points = np.random.uniform(-10,10,(10,2))\n",
    "lines_second_points = np.random.uniform(-10,10,(10,2))\n",
    "other_points  = np.random.uniform(-10,10,( 1,2))\n",
    "\n",
    "coord_diffs = lines_second_points - lines_first_points\n",
    "distances = (coord_diffs**2).sum(axis=1)\n",
    "params_T = -(\n",
    "    (lines_first_points[:,0]-other_points[...,0])*coord_diffs[:,0] + \n",
    "    (lines_first_points[:,1]-other_points[...,1])*coord_diffs[:,1]\n",
    ") / distances\n",
    "\n",
    "params_T = params_T.reshape(len(params_T), 1)\n",
    "line_point_coord_diffs = lines_first_points + params_T*coord_diffs - other_points\n",
    "\n",
    "line_point_distances = np.sqrt((line_point_coord_diffs**2).sum(axis=1))\n",
    "\n",
    "print(line_point_distances)\n"
   ]
  },
  {
   "cell_type": "markdown",
   "id": "e5e7f323",
   "metadata": {},
   "source": [
    "#### 79. Consider 2 sets of points P0,P1 describing lines (2d) and a set of points P, how to compute distance from each point j (P[j]) to each line i (P0[i],P1[i])? (★★★)"
   ]
  },
  {
   "cell_type": "code",
   "execution_count": 149,
   "id": "d0ce77e2",
   "metadata": {},
   "outputs": [
    {
     "name": "stdout",
     "output_type": "stream",
     "text": [
      "[[ 6.04139285  3.13764729  2.8842166   6.16226199 11.98376184  0.29540046\n",
      "   0.5975588   0.70858162 11.23560833  2.12120307]]\n"
     ]
    }
   ],
   "source": [
    "def distance(P0, P1, p):\n",
    "    coord_diffs = lines_second_points - lines_first_points\n",
    "    distances = (coord_diffs**2).sum(axis=1)\n",
    "    params_T = -(\n",
    "        (lines_first_points[:,0]-other_points[...,0])*coord_diffs[:,0] + \n",
    "        (lines_first_points[:,1]-other_points[...,1])*coord_diffs[:,1]\n",
    "    ) / distances\n",
    "\n",
    "    params_T = params_T.reshape(len(params_T), 1)\n",
    "    line_point_coord_diffs = lines_first_points + params_T*coord_diffs - other_points\n",
    "    return np.sqrt((line_point_coord_diffs**2).sum(axis=1))\n",
    "\n",
    "lines_first_points = np.random.uniform(-10,10,(10,2))\n",
    "lines_second_points = np.random.uniform(-10,10,(10,2))\n",
    "other_points  = np.random.uniform(-10,10,( 1,2))\n",
    "\n",
    "print(np.array([distance(lines_first_points,lines_second_points,p_i) for p_i in other_points]))"
   ]
  },
  {
   "cell_type": "markdown",
   "id": "9b9d03eb",
   "metadata": {},
   "source": [
    "#### 80. Consider an arbitrary array, write a function that extract a subpart with a fixed shape and centered on a given element (pad with a `fill` value when necessary) (★★★)"
   ]
  },
  {
   "cell_type": "code",
   "execution_count": 160,
   "id": "ec2b7ae3",
   "metadata": {},
   "outputs": [
    {
     "name": "stdout",
     "output_type": "stream",
     "text": [
      "[slice(1, 5, None), slice(1, 5, None)]\n",
      "[slice(0, 4, None), slice(0, 4, None)]\n"
     ]
    },
    {
     "ename": "IndexError",
     "evalue": "only integers, slices (`:`), ellipsis (`...`), numpy.newaxis (`None`) and integer or boolean arrays are valid indices",
     "output_type": "error",
     "traceback": [
      "\u001b[1;31m---------------------------------------------------------------------------\u001b[0m",
      "\u001b[1;31mIndexError\u001b[0m                                Traceback (most recent call last)",
      "Cell \u001b[1;32mIn [160], line 27\u001b[0m\n\u001b[0;32m     24\u001b[0m \u001b[38;5;28mprint\u001b[39m(r)\n\u001b[0;32m     25\u001b[0m \u001b[38;5;28mprint\u001b[39m(z)\n\u001b[1;32m---> 27\u001b[0m R[r] \u001b[38;5;241m=\u001b[39m Z[z]\n\u001b[0;32m     28\u001b[0m \u001b[38;5;28mprint\u001b[39m(Z)\n\u001b[0;32m     29\u001b[0m \u001b[38;5;28mprint\u001b[39m(R)\n",
      "\u001b[1;31mIndexError\u001b[0m: only integers, slices (`:`), ellipsis (`...`), numpy.newaxis (`None`) and integer or boolean arrays are valid indices"
     ]
    }
   ],
   "source": []
  },
  {
   "cell_type": "markdown",
   "id": "27794913",
   "metadata": {},
   "source": [
    "#### 81. Consider an array Z = [1,2,3,4,5,6,7,8,9,10,11,12,13,14], how to generate an array R = [[1,2,3,4], [2,3,4,5], [3,4,5,6], ..., [11,12,13,14]]? (★★★)"
   ]
  },
  {
   "cell_type": "code",
   "execution_count": null,
   "id": "f3e7878b",
   "metadata": {},
   "outputs": [
    {
     "name": "stdout",
     "output_type": "stream",
     "text": [
      "[[ 1  2  3  4]\n",
      " [ 2  3  4  5]\n",
      " [ 3  4  5  6]\n",
      " [ 4  5  6  7]\n",
      " [ 5  6  7  8]\n",
      " [ 6  7  8  9]\n",
      " [ 7  8  9 10]\n",
      " [ 8  9 10 11]\n",
      " [ 9 10 11 12]\n",
      " [10 11 12 13]\n",
      " [11 12 13 14]]\n"
     ]
    }
   ],
   "source": [
    "array = np.arange(1,15,dtype=np.uint32)\n",
    "splitted_array = stride_tricks.as_strided(array,(11,4),(4,4))\n",
    "\n",
    "print(splitted_array)"
   ]
  },
  {
   "cell_type": "markdown",
   "id": "fae786f5",
   "metadata": {},
   "source": [
    "#### 82. Compute a matrix rank (★★★)"
   ]
  },
  {
   "cell_type": "code",
   "execution_count": 161,
   "id": "64b9615b",
   "metadata": {},
   "outputs": [
    {
     "name": "stdout",
     "output_type": "stream",
     "text": [
      "10\n"
     ]
    }
   ],
   "source": [
    "matrix = np.random.uniform(0,1,(10,10))\n",
    "m_order_matrix, size_matrix, n_order_matrix = np.linalg.svd(matrix) \n",
    "rank = np.sum(size_matrix > 1e-10)\n",
    "print(rank)"
   ]
  },
  {
   "cell_type": "markdown",
   "id": "c85aa0b9",
   "metadata": {},
   "source": [
    "#### 83. How to find the most frequent value in an array?"
   ]
  },
  {
   "cell_type": "code",
   "execution_count": 162,
   "id": "056be85b",
   "metadata": {},
   "outputs": [
    {
     "name": "stdout",
     "output_type": "stream",
     "text": [
      "2\n"
     ]
    }
   ],
   "source": [
    "array = np.random.randint(0,10,50)\n",
    "print(np.bincount(array).argmax())"
   ]
  },
  {
   "cell_type": "markdown",
   "id": "0ff2344d",
   "metadata": {},
   "source": [
    "#### 84. Extract all the contiguous 3x3 blocks from a random 10x10 matrix (★★★)"
   ]
  },
  {
   "cell_type": "code",
   "execution_count": 163,
   "id": "d58b1318",
   "metadata": {},
   "outputs": [
    {
     "name": "stdout",
     "output_type": "stream",
     "text": [
      "[[[[2 4 0]\n",
      "   [1 3 0]\n",
      "   [4 2 1]]\n",
      "\n",
      "  [[4 0 1]\n",
      "   [3 0 3]\n",
      "   [2 1 3]]\n",
      "\n",
      "  [[0 1 1]\n",
      "   [0 3 1]\n",
      "   [1 3 1]]\n",
      "\n",
      "  [[1 1 0]\n",
      "   [3 1 1]\n",
      "   [3 1 2]]\n",
      "\n",
      "  [[1 0 0]\n",
      "   [1 1 2]\n",
      "   [1 2 3]]\n",
      "\n",
      "  [[0 0 4]\n",
      "   [1 2 3]\n",
      "   [2 3 3]]\n",
      "\n",
      "  [[0 4 1]\n",
      "   [2 3 1]\n",
      "   [3 3 1]]\n",
      "\n",
      "  [[4 1 0]\n",
      "   [3 1 3]\n",
      "   [3 1 0]]]\n",
      "\n",
      "\n",
      " [[[1 3 0]\n",
      "   [4 2 1]\n",
      "   [0 0 3]]\n",
      "\n",
      "  [[3 0 3]\n",
      "   [2 1 3]\n",
      "   [0 3 0]]\n",
      "\n",
      "  [[0 3 1]\n",
      "   [1 3 1]\n",
      "   [3 0 0]]\n",
      "\n",
      "  [[3 1 1]\n",
      "   [3 1 2]\n",
      "   [0 0 1]]\n",
      "\n",
      "  [[1 1 2]\n",
      "   [1 2 3]\n",
      "   [0 1 2]]\n",
      "\n",
      "  [[1 2 3]\n",
      "   [2 3 3]\n",
      "   [1 2 0]]\n",
      "\n",
      "  [[2 3 1]\n",
      "   [3 3 1]\n",
      "   [2 0 3]]\n",
      "\n",
      "  [[3 1 3]\n",
      "   [3 1 0]\n",
      "   [0 3 1]]]\n",
      "\n",
      "\n",
      " [[[4 2 1]\n",
      "   [0 0 3]\n",
      "   [1 2 2]]\n",
      "\n",
      "  [[2 1 3]\n",
      "   [0 3 0]\n",
      "   [2 2 4]]\n",
      "\n",
      "  [[1 3 1]\n",
      "   [3 0 0]\n",
      "   [2 4 2]]\n",
      "\n",
      "  [[3 1 2]\n",
      "   [0 0 1]\n",
      "   [4 2 3]]\n",
      "\n",
      "  [[1 2 3]\n",
      "   [0 1 2]\n",
      "   [2 3 1]]\n",
      "\n",
      "  [[2 3 3]\n",
      "   [1 2 0]\n",
      "   [3 1 0]]\n",
      "\n",
      "  [[3 3 1]\n",
      "   [2 0 3]\n",
      "   [1 0 2]]\n",
      "\n",
      "  [[3 1 0]\n",
      "   [0 3 1]\n",
      "   [0 2 3]]]\n",
      "\n",
      "\n",
      " [[[0 0 3]\n",
      "   [1 2 2]\n",
      "   [0 0 1]]\n",
      "\n",
      "  [[0 3 0]\n",
      "   [2 2 4]\n",
      "   [0 1 3]]\n",
      "\n",
      "  [[3 0 0]\n",
      "   [2 4 2]\n",
      "   [1 3 3]]\n",
      "\n",
      "  [[0 0 1]\n",
      "   [4 2 3]\n",
      "   [3 3 2]]\n",
      "\n",
      "  [[0 1 2]\n",
      "   [2 3 1]\n",
      "   [3 2 1]]\n",
      "\n",
      "  [[1 2 0]\n",
      "   [3 1 0]\n",
      "   [2 1 4]]\n",
      "\n",
      "  [[2 0 3]\n",
      "   [1 0 2]\n",
      "   [1 4 1]]\n",
      "\n",
      "  [[0 3 1]\n",
      "   [0 2 3]\n",
      "   [4 1 4]]]\n",
      "\n",
      "\n",
      " [[[1 2 2]\n",
      "   [0 0 1]\n",
      "   [1 2 1]]\n",
      "\n",
      "  [[2 2 4]\n",
      "   [0 1 3]\n",
      "   [2 1 4]]\n",
      "\n",
      "  [[2 4 2]\n",
      "   [1 3 3]\n",
      "   [1 4 2]]\n",
      "\n",
      "  [[4 2 3]\n",
      "   [3 3 2]\n",
      "   [4 2 4]]\n",
      "\n",
      "  [[2 3 1]\n",
      "   [3 2 1]\n",
      "   [2 4 2]]\n",
      "\n",
      "  [[3 1 0]\n",
      "   [2 1 4]\n",
      "   [4 2 1]]\n",
      "\n",
      "  [[1 0 2]\n",
      "   [1 4 1]\n",
      "   [2 1 2]]\n",
      "\n",
      "  [[0 2 3]\n",
      "   [4 1 4]\n",
      "   [1 2 2]]]\n",
      "\n",
      "\n",
      " [[[0 0 1]\n",
      "   [1 2 1]\n",
      "   [1 4 2]]\n",
      "\n",
      "  [[0 1 3]\n",
      "   [2 1 4]\n",
      "   [4 2 4]]\n",
      "\n",
      "  [[1 3 3]\n",
      "   [1 4 2]\n",
      "   [2 4 0]]\n",
      "\n",
      "  [[3 3 2]\n",
      "   [4 2 4]\n",
      "   [4 0 2]]\n",
      "\n",
      "  [[3 2 1]\n",
      "   [2 4 2]\n",
      "   [0 2 3]]\n",
      "\n",
      "  [[2 1 4]\n",
      "   [4 2 1]\n",
      "   [2 3 4]]\n",
      "\n",
      "  [[1 4 1]\n",
      "   [2 1 2]\n",
      "   [3 4 2]]\n",
      "\n",
      "  [[4 1 4]\n",
      "   [1 2 2]\n",
      "   [4 2 2]]]\n",
      "\n",
      "\n",
      " [[[1 2 1]\n",
      "   [1 4 2]\n",
      "   [0 1 3]]\n",
      "\n",
      "  [[2 1 4]\n",
      "   [4 2 4]\n",
      "   [1 3 1]]\n",
      "\n",
      "  [[1 4 2]\n",
      "   [2 4 0]\n",
      "   [3 1 2]]\n",
      "\n",
      "  [[4 2 4]\n",
      "   [4 0 2]\n",
      "   [1 2 0]]\n",
      "\n",
      "  [[2 4 2]\n",
      "   [0 2 3]\n",
      "   [2 0 2]]\n",
      "\n",
      "  [[4 2 1]\n",
      "   [2 3 4]\n",
      "   [0 2 3]]\n",
      "\n",
      "  [[2 1 2]\n",
      "   [3 4 2]\n",
      "   [2 3 4]]\n",
      "\n",
      "  [[1 2 2]\n",
      "   [4 2 2]\n",
      "   [3 4 2]]]\n",
      "\n",
      "\n",
      " [[[1 4 2]\n",
      "   [0 1 3]\n",
      "   [1 0 4]]\n",
      "\n",
      "  [[4 2 4]\n",
      "   [1 3 1]\n",
      "   [0 4 3]]\n",
      "\n",
      "  [[2 4 0]\n",
      "   [3 1 2]\n",
      "   [4 3 4]]\n",
      "\n",
      "  [[4 0 2]\n",
      "   [1 2 0]\n",
      "   [3 4 3]]\n",
      "\n",
      "  [[0 2 3]\n",
      "   [2 0 2]\n",
      "   [4 3 2]]\n",
      "\n",
      "  [[2 3 4]\n",
      "   [0 2 3]\n",
      "   [3 2 2]]\n",
      "\n",
      "  [[3 4 2]\n",
      "   [2 3 4]\n",
      "   [2 2 4]]\n",
      "\n",
      "  [[4 2 2]\n",
      "   [3 4 2]\n",
      "   [2 4 0]]]]\n"
     ]
    }
   ],
   "source": [
    "array = np.random.randint(0,5,(10,10))\n",
    "block_side_size = 3\n",
    "i = 1 + (array.shape[0]-3)\n",
    "j = 1 + (array.shape[1]-3)\n",
    "blocks = stride_tricks.as_strided(array, shape=(i, j, block_side_size, block_side_size), strides=array.strides + array.strides)\n",
    "print(blocks)"
   ]
  },
  {
   "cell_type": "markdown",
   "id": "1a18b263",
   "metadata": {},
   "source": [
    "#### 85. Create a 2D array subclass such that Z[i,j] == Z[j,i] (★★★)"
   ]
  },
  {
   "cell_type": "code",
   "execution_count": 164,
   "id": "87f17adc",
   "metadata": {},
   "outputs": [
    {
     "name": "stdout",
     "output_type": "stream",
     "text": [
      "[[ 1  6  6 10 13]\n",
      " [ 6  6 10 16 15]\n",
      " [ 6 10  7 42  7]\n",
      " [10 16 42  4  5]\n",
      " [13 15  7  5  5]]\n"
     ]
    }
   ],
   "source": [
    "class Symetric(np.ndarray):\n",
    "    def __setitem__(self, index, value):\n",
    "        i,j = index\n",
    "        super(Symetric, self).__setitem__((i,j), value)\n",
    "        super(Symetric, self).__setitem__((j,i), value)\n",
    "\n",
    "def symetric(array):\n",
    "    return np.asarray(array + array.T - np.diag(array.diagonal())).view(Symetric)\n",
    "\n",
    "sym_matrix = symetric(np.random.randint(0,10,(5,5)))\n",
    "sym_matrix[2,3] = 42\n",
    "print(sym_matrix)"
   ]
  },
  {
   "cell_type": "markdown",
   "id": "f85f2cad",
   "metadata": {},
   "source": [
    "#### 86. Consider a set of p matrices wich shape (n,n) and a set of p vectors with shape (n,1). How to compute the sum of of the p matrix products at once? (result has shape (n,1)) (★★★)"
   ]
  },
  {
   "cell_type": "code",
   "execution_count": 165,
   "id": "8d230557",
   "metadata": {},
   "outputs": [
    {
     "name": "stdout",
     "output_type": "stream",
     "text": [
      "[[200.]\n",
      " [200.]\n",
      " [200.]\n",
      " [200.]\n",
      " [200.]\n",
      " [200.]\n",
      " [200.]\n",
      " [200.]\n",
      " [200.]\n",
      " [200.]\n",
      " [200.]\n",
      " [200.]\n",
      " [200.]\n",
      " [200.]\n",
      " [200.]\n",
      " [200.]\n",
      " [200.]\n",
      " [200.]\n",
      " [200.]\n",
      " [200.]]\n"
     ]
    }
   ],
   "source": [
    "\n",
    "matrices_count = 10\n",
    "matrix_size = 20\n",
    "\n",
    "matrices = np.ones((matrices_count,matrix_size,matrix_size))\n",
    "vectors = np.ones((matrices_count,matrix_size,1))\n",
    "tensor_dots = np.tensordot(matrices, vectors, axes=[[0, 2], [0, 1]])\n",
    "print(tensor_dots)"
   ]
  },
  {
   "cell_type": "markdown",
   "id": "5afb72c8",
   "metadata": {},
   "source": [
    "#### 87. Consider a 16x16 array, how to get the block-sum (block size is 4x4)? (★★★)"
   ]
  },
  {
   "cell_type": "code",
   "execution_count": 166,
   "id": "e86f47a9",
   "metadata": {},
   "outputs": [
    {
     "name": "stdout",
     "output_type": "stream",
     "text": [
      "[[16. 16. 16. 16.]\n",
      " [16. 16. 16. 16.]\n",
      " [16. 16. 16. 16.]\n",
      " [16. 16. 16. 16.]]\n"
     ]
    }
   ],
   "source": [
    "matrix = np.ones((16,16))\n",
    "block_side_size = 4\n",
    "block = np.add.reduceat(np.add.reduceat(matrix, np.arange(0, matrix.shape[0], block_side_size), axis=0),\n",
    "                                            np.arange(0, matrix.shape[1], block_side_size), axis=1)\n",
    "print(block)"
   ]
  },
  {
   "cell_type": "markdown",
   "id": "6094d37c",
   "metadata": {},
   "source": [
    "#### 88. How to implement the Game of Life using numpy arrays? (★★★)"
   ]
  },
  {
   "cell_type": "code",
   "execution_count": 172,
   "id": "a93e715f",
   "metadata": {},
   "outputs": [
    {
     "name": "stdout",
     "output_type": "stream",
     "text": [
      "[[0 0 0 0 0 0 0 0 0 0 0 0 0 0 0 0 0 0 0 0 0 0 0 0 0 0 0 0 0 0 0 0 0 0 0 0\n",
      "  0 0 0 0 0 0 0 0 0 0 0 0 0 0]\n",
      " [0 0 0 0 0 0 0 0 0 0 0 0 0 0 0 0 0 0 0 0 0 0 0 0 0 0 0 0 0 0 0 0 0 0 0 0\n",
      "  0 0 0 0 0 0 0 0 0 0 0 0 0 0]\n",
      " [0 0 0 0 0 0 0 0 0 0 0 0 0 0 0 0 0 0 0 0 0 0 0 0 0 0 0 0 0 0 0 0 0 0 0 0\n",
      "  0 0 0 0 0 0 0 0 0 0 0 0 0 0]\n",
      " [0 0 0 0 0 0 0 0 0 0 0 0 0 0 0 0 0 0 0 0 0 0 0 0 0 0 0 0 0 0 0 0 0 0 0 0\n",
      "  0 0 1 1 0 0 0 0 0 0 0 0 0 0]\n",
      " [0 0 0 0 0 0 0 0 0 0 0 0 0 0 0 0 0 0 0 0 0 0 0 0 0 1 1 0 0 0 0 0 0 0 0 0\n",
      "  0 0 1 0 1 0 0 0 0 0 0 0 0 0]\n",
      " [0 0 0 0 0 0 0 0 0 0 0 1 0 0 0 0 0 0 0 0 0 0 0 0 1 0 0 1 0 0 0 0 0 0 0 0\n",
      "  0 0 0 1 0 0 0 0 0 0 0 0 0 0]\n",
      " [0 0 0 0 0 0 0 0 0 0 1 0 1 0 0 0 0 0 0 0 0 0 0 0 0 1 1 0 0 0 0 0 0 0 0 0\n",
      "  0 0 0 0 0 0 0 0 0 0 0 0 0 0]\n",
      " [0 0 0 0 0 0 0 0 0 0 0 0 0 0 0 0 0 0 0 0 0 0 0 0 0 0 0 0 0 0 0 0 0 0 0 0\n",
      "  0 0 0 0 0 0 0 0 0 0 0 0 0 0]\n",
      " [0 0 0 0 0 0 0 0 0 0 0 0 0 0 0 0 1 0 0 0 0 0 0 0 0 0 0 0 0 0 0 0 0 0 0 0\n",
      "  0 0 0 0 0 0 0 0 0 0 0 0 0 0]\n",
      " [0 0 0 0 0 0 0 0 0 0 0 0 0 0 0 0 0 1 1 0 0 0 0 0 0 0 0 0 0 0 0 0 0 0 0 0\n",
      "  0 0 0 0 0 0 0 0 0 0 0 0 0 0]\n",
      " [0 0 0 0 0 0 0 0 0 0 0 0 0 0 0 0 1 1 0 0 1 0 0 0 0 0 0 0 0 0 0 0 0 0 0 0\n",
      "  0 0 0 0 0 0 0 0 0 0 0 0 0 0]\n",
      " [0 0 0 0 0 0 0 0 0 0 0 0 0 0 0 0 0 1 0 0 0 1 0 0 0 0 0 0 0 0 0 0 0 0 0 0\n",
      "  0 0 0 0 0 0 0 0 0 0 0 0 0 0]\n",
      " [0 0 0 0 0 0 0 0 0 0 0 0 0 0 0 0 0 0 1 0 1 0 0 0 0 0 0 0 0 0 0 0 0 0 0 0\n",
      "  0 0 0 0 0 0 0 1 1 0 0 0 0 0]\n",
      " [0 0 0 0 1 0 0 0 0 0 0 0 0 0 0 0 0 0 0 1 0 0 0 0 0 0 0 0 0 0 0 0 0 0 0 0\n",
      "  0 0 0 0 0 0 0 1 1 0 0 0 0 0]\n",
      " [0 0 0 1 0 1 0 0 0 0 0 0 0 0 0 0 0 0 0 0 0 0 0 0 0 0 0 0 1 1 0 0 0 0 0 0\n",
      "  0 0 0 0 0 0 0 0 0 0 0 0 0 0]\n",
      " [0 0 0 1 0 1 0 0 0 0 0 0 0 0 0 0 0 0 0 0 0 0 0 0 0 0 0 0 1 1 0 0 0 0 0 0\n",
      "  0 0 0 0 0 0 0 0 0 0 0 0 0 0]\n",
      " [0 0 0 0 1 0 0 0 0 0 0 0 0 0 0 0 0 0 0 0 0 0 0 0 0 0 0 0 0 0 0 0 0 0 0 0\n",
      "  0 0 0 0 0 0 0 0 0 0 0 0 0 0]\n",
      " [0 0 0 0 0 0 0 0 0 0 0 0 0 0 0 0 0 0 0 0 0 0 0 0 0 0 0 0 0 0 0 0 0 0 0 0\n",
      "  0 0 0 0 0 0 0 0 0 0 0 0 0 0]\n",
      " [0 0 0 0 0 0 0 0 0 0 0 0 0 0 0 0 0 0 0 0 0 0 0 0 0 0 0 0 0 0 0 0 0 0 0 0\n",
      "  0 0 0 0 0 0 0 0 0 0 0 0 0 0]\n",
      " [0 0 0 0 0 0 0 0 0 0 0 0 0 0 0 0 0 0 0 0 0 0 0 0 0 0 0 0 0 0 0 0 0 0 0 0\n",
      "  0 0 0 0 0 0 0 0 0 0 0 0 0 0]\n",
      " [0 0 0 0 0 0 0 0 0 0 0 0 0 0 0 0 0 0 0 0 0 0 0 0 0 0 0 0 0 0 0 0 0 0 0 0\n",
      "  0 0 0 0 0 0 0 0 0 0 0 0 0 0]\n",
      " [0 0 0 0 0 0 0 0 0 0 0 0 0 0 0 0 0 0 0 0 0 0 0 0 0 0 0 0 0 1 1 0 0 0 0 0\n",
      "  0 0 0 0 0 0 0 0 0 0 0 0 0 0]\n",
      " [0 0 0 0 0 0 0 0 0 0 0 0 0 0 0 0 0 0 0 0 0 0 0 0 0 0 0 0 0 1 1 0 0 0 0 0\n",
      "  0 0 0 0 0 0 0 0 0 0 0 0 0 0]\n",
      " [0 0 0 0 0 0 0 0 0 1 1 0 0 0 0 0 0 0 0 0 0 0 0 0 1 0 0 0 0 0 0 0 0 0 1 1\n",
      "  0 0 0 0 0 0 0 0 0 0 0 0 0 0]\n",
      " [0 0 1 1 0 0 0 0 0 0 0 0 1 0 0 0 0 0 1 1 0 0 0 1 0 1 0 0 0 0 0 0 0 1 0 0\n",
      "  1 0 0 0 0 0 0 0 0 0 0 0 0 0]\n",
      " [0 0 0 1 0 0 0 0 0 0 0 1 0 0 0 0 0 0 1 1 0 0 0 1 0 1 0 0 0 0 0 0 0 0 1 1\n",
      "  0 0 0 0 0 0 0 0 0 0 0 0 0 0]\n",
      " [0 0 1 0 1 0 0 0 1 1 0 0 1 0 0 0 0 0 0 0 0 0 0 0 1 0 0 0 0 0 0 0 0 0 0 0\n",
      "  0 0 0 0 0 0 0 0 0 0 0 0 0 0]\n",
      " [0 0 0 0 0 1 1 0 1 0 1 1 1 0 0 0 0 0 0 0 0 0 0 0 0 0 0 0 0 0 0 0 0 0 0 0\n",
      "  0 0 0 1 0 0 0 1 0 0 0 0 0 0]\n",
      " [0 0 1 0 0 1 1 0 0 0 0 0 0 0 1 0 0 0 0 0 0 0 0 0 0 0 0 0 0 0 0 0 0 0 0 0\n",
      "  0 0 1 0 1 0 1 0 1 0 0 0 0 0]\n",
      " [0 1 1 0 0 0 0 0 0 0 0 0 0 0 0 0 0 0 0 0 0 0 0 0 0 0 0 0 0 0 0 0 0 0 0 0\n",
      "  0 1 0 0 1 0 1 0 0 1 0 0 0 0]\n",
      " [0 0 1 0 1 0 0 0 0 1 0 0 0 0 1 0 0 0 0 0 0 0 0 0 0 0 0 0 0 0 0 0 0 0 0 0\n",
      "  0 0 1 0 1 0 1 0 1 0 0 0 0 0]\n",
      " [0 0 0 1 0 0 0 1 0 0 0 0 1 1 0 0 0 0 0 0 0 0 0 0 0 0 0 0 0 0 0 0 0 0 0 0\n",
      "  0 0 0 1 0 0 0 1 0 0 0 0 0 0]\n",
      " [0 0 0 0 0 0 0 0 0 0 1 1 0 0 0 0 0 0 0 0 0 0 0 0 0 0 0 0 0 0 0 0 0 0 0 0\n",
      "  0 0 0 0 0 0 0 0 0 0 0 0 0 0]\n",
      " [0 0 0 0 0 0 0 1 1 0 0 0 0 0 0 0 0 0 0 0 0 0 0 0 0 0 0 0 0 0 0 0 0 0 0 0\n",
      "  0 0 0 0 0 0 0 0 0 0 0 0 0 0]\n",
      " [0 0 0 0 0 0 0 0 0 0 0 0 0 0 0 0 0 0 1 1 0 0 0 0 0 0 0 0 0 0 0 0 0 0 0 0\n",
      "  0 0 0 0 0 0 0 0 0 0 0 0 0 0]\n",
      " [0 0 0 0 0 0 0 0 0 0 0 0 0 0 0 0 0 0 1 1 0 0 0 0 0 0 0 0 0 0 0 0 0 0 0 0\n",
      "  0 0 0 0 0 0 0 0 0 0 0 0 0 0]\n",
      " [0 0 0 0 0 0 0 0 0 0 0 0 0 0 1 1 0 0 0 0 0 0 0 0 0 0 0 0 0 0 0 0 0 0 0 0\n",
      "  0 0 0 0 0 0 0 0 0 0 0 0 0 0]\n",
      " [0 0 0 0 0 0 0 0 0 0 0 0 0 1 0 1 1 1 0 0 0 0 0 0 0 0 0 0 0 0 0 0 0 0 0 0\n",
      "  0 0 0 0 0 1 0 0 0 0 0 0 0 0]\n",
      " [0 0 0 0 0 0 0 0 0 0 0 0 0 0 0 0 0 1 0 0 0 0 0 0 0 1 1 0 0 0 0 0 0 0 0 0\n",
      "  0 0 0 0 1 0 1 0 0 0 0 0 0 0]\n",
      " [0 0 0 0 0 0 0 0 0 0 0 0 0 0 0 1 1 1 0 0 0 0 0 0 1 0 0 1 0 0 0 0 0 0 0 0\n",
      "  0 0 0 1 0 0 1 0 0 0 0 0 0 0]\n",
      " [0 0 0 0 0 0 0 0 0 0 0 0 0 0 0 0 0 0 0 0 0 0 0 0 0 1 1 0 0 0 0 0 0 0 0 0\n",
      "  0 0 0 0 1 1 0 0 0 0 0 0 0 0]\n",
      " [0 0 0 0 0 0 0 0 0 0 0 0 0 0 0 0 0 0 0 0 0 0 0 0 0 0 0 0 0 0 0 0 0 0 0 0\n",
      "  0 0 0 0 0 0 0 0 0 0 0 0 0 0]\n",
      " [0 0 0 0 0 0 0 0 0 0 0 0 1 1 0 0 0 0 0 0 0 0 0 0 0 0 0 0 0 0 0 0 0 0 0 0\n",
      "  0 0 0 0 0 0 0 0 0 0 0 0 0 0]\n",
      " [0 0 0 0 0 0 0 0 0 0 0 0 1 1 0 0 0 0 0 0 0 0 0 0 0 0 0 0 0 0 0 0 0 0 0 0\n",
      "  0 0 0 0 0 0 0 0 0 0 0 0 0 0]\n",
      " [0 0 0 0 0 0 1 1 0 1 1 0 0 0 0 0 0 0 0 0 0 1 1 0 0 0 0 0 0 0 0 0 0 0 0 0\n",
      "  0 0 0 0 0 0 0 0 0 0 0 0 0 0]\n",
      " [0 0 0 0 0 0 1 1 0 1 1 0 0 0 0 0 0 0 0 0 0 1 1 0 1 0 0 0 0 0 0 0 0 0 0 0\n",
      "  0 0 0 0 0 0 0 0 0 0 0 0 0 0]\n",
      " [0 0 0 0 0 0 0 0 1 1 0 1 0 0 0 0 0 0 0 0 0 1 1 0 1 1 0 0 0 0 0 0 0 0 0 0\n",
      "  0 0 0 0 0 0 0 0 0 0 0 0 0 0]\n",
      " [0 0 0 0 0 0 0 0 0 0 0 1 0 0 0 0 0 0 0 0 0 0 1 0 1 0 0 0 0 0 0 0 0 0 0 0\n",
      "  0 0 0 1 1 0 0 0 0 0 0 0 0 0]\n",
      " [0 0 0 0 0 0 0 0 0 0 1 0 0 0 0 0 0 0 0 0 0 0 0 0 0 0 0 0 0 0 0 0 0 0 0 0\n",
      "  0 0 0 1 1 0 0 0 0 0 0 0 0 0]\n",
      " [0 0 0 0 0 0 0 0 0 0 0 0 0 0 0 0 0 0 0 0 0 0 0 0 0 0 0 0 0 0 0 0 0 0 0 0\n",
      "  0 0 0 0 0 0 0 0 0 0 0 0 0 0]]\n"
     ]
    }
   ],
   "source": [
    "import sys\n",
    "\n",
    "def iterate(matrix):\n",
    "    neighbours_count = (matrix[0:-2,0:-2] + matrix[0:-2,1:-1] + matrix[0:-2,2:] +\n",
    "                        matrix[1:-1,0:-2]                     + matrix[1:-1,2:] +\n",
    "                        matrix[2:  ,0:-2] + matrix[2:  ,1:-1] + matrix[2:  ,2:])\n",
    "\n",
    "    # Apply rules\n",
    "    birth = (neighbours_count==3) & (matrix[1:-1,1:-1]==0)\n",
    "    survive = ((neighbours_count==2) | (neighbours_count==3)) & (matrix[1:-1,1:-1]==1)\n",
    "    matrix[...] = 0\n",
    "    matrix[1:-1,1:-1][birth | survive] = 1\n",
    "    return matrix\n",
    "\n",
    "matrix = np.random.randint(0,2,(50,50))\n",
    "for i in range(100):\n",
    "    matrix = iterate(matrix)\n",
    "    \n",
    "\n",
    "np.set_printoptions(threshold=sys.maxsize)\n",
    "\n",
    "print(matrix)"
   ]
  },
  {
   "cell_type": "markdown",
   "id": "a173cf96",
   "metadata": {},
   "source": [
    "#### 89. How to get the n largest values of an array (★★★)"
   ]
  },
  {
   "cell_type": "code",
   "execution_count": 174,
   "id": "b7c2ff35",
   "metadata": {},
   "outputs": [
    {
     "name": "stdout",
     "output_type": "stream",
     "text": [
      "[4999 4996 4998 4997 5000]\n"
     ]
    }
   ],
   "source": [
    "array = np.arange(5001)\n",
    "np.random.shuffle(array)\n",
    "n = 5\n",
    "\n",
    "print (array[np.argpartition(-array,n)[:n]])"
   ]
  },
  {
   "cell_type": "markdown",
   "id": "15db2d01",
   "metadata": {},
   "source": [
    "#### 90. Given an arbitrary number of vectors, build the cartesian product (every combinations of every item) (★★★)"
   ]
  },
  {
   "cell_type": "code",
   "execution_count": 175,
   "id": "a9a4633d",
   "metadata": {},
   "outputs": [
    {
     "name": "stdout",
     "output_type": "stream",
     "text": [
      "[[1 4 6]\n",
      " [1 4 7]\n",
      " [1 5 6]\n",
      " [1 5 7]\n",
      " [2 4 6]\n",
      " [2 4 7]\n",
      " [2 5 6]\n",
      " [2 5 7]\n",
      " [3 4 6]\n",
      " [3 4 7]\n",
      " [3 5 6]\n",
      " [3 5 7]]\n"
     ]
    }
   ],
   "source": [
    "def cartesian(arrays):\n",
    "    arrays = [np.asarray(a) for a in arrays]\n",
    "    shape = (len(x) for x in arrays)\n",
    "\n",
    "    ix = np.indices(shape, dtype=int)\n",
    "    ix = ix.reshape(len(arrays), -1).T\n",
    "\n",
    "    for n, arr in enumerate(arrays):\n",
    "        ix[:, n] = arrays[n][ix[:, n]]\n",
    "\n",
    "    return ix\n",
    "\n",
    "print (cartesian(([1, 2, 3], [4, 5], [6, 7])))"
   ]
  },
  {
   "cell_type": "markdown",
   "id": "5d94d1ef",
   "metadata": {},
   "source": [
    "#### 91. How to create a record array from a regular array? (★★★)"
   ]
  },
  {
   "cell_type": "code",
   "execution_count": 176,
   "id": "b1dae380",
   "metadata": {},
   "outputs": [
    {
     "name": "stdout",
     "output_type": "stream",
     "text": [
      "[(b'Hello', 2.5, 3) (b'World', 3.6, 2)]\n"
     ]
    }
   ],
   "source": [
    "array = np.array([(\"Hello\", 2.5, 3),\n",
    "                  (\"World\", 3.6, 2)])\n",
    "record_array = np.core.records.fromarrays(array.T, \n",
    "                               names='col1, col2, col3',\n",
    "                               formats = 'S8, f8, i8')\n",
    "print(record_array)"
   ]
  },
  {
   "cell_type": "markdown",
   "id": "114ccc36",
   "metadata": {},
   "source": [
    "#### 92. Consider a large vector Z, compute Z to the power of 3 using 3 different methods (★★★)"
   ]
  },
  {
   "cell_type": "code",
   "execution_count": 182,
   "id": "877c65d6",
   "metadata": {},
   "outputs": [
    {
     "name": "stdout",
     "output_type": "stream",
     "text": [
      "18.6 ms ± 269 µs per loop (mean ± std. dev. of 7 runs, 100 loops each)\n",
      "4.44 ms ± 47.5 µs per loop (mean ± std. dev. of 7 runs, 100 loops each)\n",
      "2.32 ms ± 163 µs per loop (mean ± std. dev. of 7 runs, 100 loops each)\n"
     ]
    }
   ],
   "source": [
    "\n",
    "x = np.random.rand(1000000)\n",
    "\n",
    "%timeit np.power(x,3)\n",
    "%timeit x*x*x\n",
    "%timeit np.einsum('i,i,i->i',x,x,x)"
   ]
  },
  {
   "cell_type": "markdown",
   "id": "d614fee4",
   "metadata": {},
   "source": [
    "#### 93. Consider two arrays A and B of shape (8,3) and (2,2). How to find rows of A that contain elements of each row of B regardless of the order of the elements in B? (★★★)"
   ]
  },
  {
   "cell_type": "code",
   "execution_count": 184,
   "id": "e6807a84",
   "metadata": {},
   "outputs": [
    {
     "name": "stdout",
     "output_type": "stream",
     "text": [
      "[2 3 5 6 7]\n"
     ]
    }
   ],
   "source": [
    "array_A = np.random.randint(0,5,(8,3))\n",
    "array_B = np.random.randint(0,5,(2,2))\n",
    "\n",
    "C = (array_A[..., np.newaxis, np.newaxis] == array_B)\n",
    "rows = np.where(C.any((3,1)).all(1))[0]\n",
    "print(rows)"
   ]
  },
  {
   "cell_type": "markdown",
   "id": "b0eedca6",
   "metadata": {},
   "source": [
    "#### 94. Considering a 10x3 matrix, extract rows with unequal values (e.g. [2,2,3]) (★★★)"
   ]
  },
  {
   "cell_type": "code",
   "execution_count": 187,
   "id": "fc136ce2",
   "metadata": {},
   "outputs": [
    {
     "name": "stdout",
     "output_type": "stream",
     "text": [
      "[[2 0 2]\n",
      " [0 2 1]\n",
      " [1 4 1]\n",
      " [1 2 2]\n",
      " [0 0 1]\n",
      " [2 0 1]\n",
      " [2 1 4]\n",
      " [3 2 2]\n",
      " [4 4 1]\n",
      " [0 2 3]]\n",
      "[[2 0 2]\n",
      " [0 2 1]\n",
      " [1 4 1]\n",
      " [1 2 2]\n",
      " [0 0 1]\n",
      " [2 0 1]\n",
      " [2 1 4]\n",
      " [3 2 2]\n",
      " [4 4 1]\n",
      " [0 2 3]]\n"
     ]
    }
   ],
   "source": [
    "matrix = np.random.randint(0,5,(10,3))\n",
    "print(matrix)\n",
    "\n",
    "equal_rows = np.all(matrix[:,1:] == matrix[:,:-1], axis=1)\n",
    "unequal_rows = matrix[~equal_rows]\n",
    "\n",
    "print(unequal_rows)"
   ]
  },
  {
   "cell_type": "markdown",
   "id": "a65ec1cf",
   "metadata": {},
   "source": [
    "#### 95. Convert a vector of ints into a matrix binary representation (★★★)"
   ]
  },
  {
   "cell_type": "code",
   "execution_count": 188,
   "id": "323cdf4c",
   "metadata": {},
   "outputs": [
    {
     "name": "stdout",
     "output_type": "stream",
     "text": [
      "[[0 0 0 0 0 0 0 0]\n",
      " [0 0 0 0 0 0 0 1]\n",
      " [0 0 0 0 0 0 1 0]\n",
      " [0 0 0 0 0 0 1 1]\n",
      " [0 0 0 0 1 1 1 1]\n",
      " [0 0 0 1 0 0 0 0]\n",
      " [0 0 1 0 0 0 0 0]\n",
      " [0 1 0 0 0 0 0 0]\n",
      " [1 0 0 0 0 0 0 0]]\n"
     ]
    }
   ],
   "source": [
    "vector = np.array([0, 1, 2, 3, 15, 16, 32, 64, 128], dtype=np.uint8)\n",
    "print(np.unpackbits(vector[:, np.newaxis], axis=1))"
   ]
  },
  {
   "cell_type": "markdown",
   "id": "75b9397f",
   "metadata": {},
   "source": [
    "#### 96. Given a two dimensional array, how to extract unique rows? (★★★)"
   ]
  },
  {
   "cell_type": "code",
   "execution_count": 190,
   "id": "9bb56a47",
   "metadata": {},
   "outputs": [
    {
     "name": "stdout",
     "output_type": "stream",
     "text": [
      "[[0 0 0]\n",
      " [1 0 0]\n",
      " [0 0 0]\n",
      " [1 1 1]\n",
      " [1 1 1]\n",
      " [0 0 1]]\n",
      "[[0 0 0]\n",
      " [0 0 1]\n",
      " [1 0 0]\n",
      " [1 1 1]]\n"
     ]
    }
   ],
   "source": [
    "array = np.random.randint(0,2,(6,3))\n",
    "print(array)\n",
    "unique = np.unique(array, axis=0)\n",
    "print(unique)"
   ]
  },
  {
   "cell_type": "markdown",
   "id": "82aaf21b",
   "metadata": {},
   "source": [
    "#### 97. Considering 2 vectors A & B, write the einsum equivalent of inner, outer, sum, and mul function (★★★)"
   ]
  },
  {
   "cell_type": "code",
   "execution_count": 191,
   "id": "cedcefd9",
   "metadata": {},
   "outputs": [
    {
     "data": {
      "text/plain": [
       "array([[5.90922051e-01, 2.61883932e-01, 3.40204789e-03, 6.50527003e-01,\n",
       "        8.58465900e-01, 4.82061953e-02, 3.89181308e-02, 7.28488386e-02,\n",
       "        5.68877497e-01, 2.62029959e-01],\n",
       "       [3.52971196e-01, 1.56429236e-01, 2.03212067e-03, 3.88574591e-01,\n",
       "        5.12781229e-01, 2.87946581e-02, 2.32466857e-02, 4.35142700e-02,\n",
       "        3.39803482e-01, 1.56516460e-01],\n",
       "       [1.37495330e-01, 6.09349706e-02, 7.91586129e-04, 1.51364169e-01,\n",
       "        1.99747247e-01, 1.12165839e-02, 9.05544352e-03, 1.69504169e-02,\n",
       "        1.32366019e-01, 6.09689479e-02],\n",
       "       [1.79977906e-01, 7.97623335e-02, 1.03616620e-03, 1.98131864e-01,\n",
       "        2.61464087e-01, 1.46822243e-02, 1.18533463e-02, 2.21876665e-02,\n",
       "        1.73263767e-01, 7.98068089e-02],\n",
       "       [5.40271639e-01, 2.39436760e-01, 3.11044407e-03, 5.94767600e-01,\n",
       "        7.84883180e-01, 4.40742397e-02, 3.55822943e-02, 6.66046585e-02,\n",
       "        5.20116616e-01, 2.39570270e-01],\n",
       "       [9.12203344e-02, 4.04268885e-02, 5.25172391e-04, 1.00421520e-01,\n",
       "        1.32520941e-01, 7.44156568e-03, 6.00777193e-03, 1.12456379e-02,\n",
       "        8.78173278e-02, 4.04494305e-02],\n",
       "       [1.49990418e-01, 6.64725243e-02, 8.63522665e-04, 1.65119607e-01,\n",
       "        2.17899567e-01, 1.22359072e-02, 9.87837006e-03, 1.84908106e-02,\n",
       "        1.44394972e-01, 6.65095893e-02],\n",
       "       [1.43887612e-01, 6.37678921e-02, 8.28387679e-04, 1.58401225e-01,\n",
       "        2.09033675e-01, 1.17380529e-02, 9.47643922e-03, 1.77384570e-02,\n",
       "        1.38519834e-01, 6.38034490e-02],\n",
       "       [3.37533285e-01, 1.49587486e-01, 1.94324175e-03, 3.71579494e-01,\n",
       "        4.90353703e-01, 2.75352654e-02, 2.22299448e-02, 4.16110852e-02,\n",
       "        3.24941488e-01, 1.49670896e-01],\n",
       "       [6.91803190e-03, 3.06592282e-03, 3.98283933e-05, 7.61583792e-03,\n",
       "        1.00502164e-02, 5.64358694e-04, 4.55621635e-04, 8.52854601e-04,\n",
       "        6.65995230e-03, 3.06763237e-03]])"
      ]
     },
     "execution_count": 191,
     "metadata": {},
     "output_type": "execute_result"
    }
   ],
   "source": [
    "A = np.random.uniform(0,1,10)\n",
    "B = np.random.uniform(0,1,10)\n",
    "\n",
    "np.einsum('i->', A)       \n",
    "np.einsum('i,i->i', A, B) \n",
    "np.einsum('i,i', A, B)    \n",
    "np.einsum('i,j->ij', A, B)   "
   ]
  },
  {
   "cell_type": "markdown",
   "id": "7741e17f",
   "metadata": {},
   "source": [
    "#### 98. Considering a path described by two vectors (X,Y), how to sample it using equidistant samples (★★★)?"
   ]
  },
  {
   "cell_type": "code",
   "execution_count": 193,
   "id": "0b2432fe",
   "metadata": {},
   "outputs": [
    {
     "name": "stdout",
     "output_type": "stream",
     "text": [
      "[  0.           2.48788858   4.97577716   7.46366574   9.95155432\n",
      "  12.43944289  14.92733147  17.41522005  19.90310863  22.39099721\n",
      "  24.87888579  27.36677437  29.85466295  32.34255152  34.8304401\n",
      "  37.31832868  39.80621726  42.29410584  44.78199442  47.269883\n",
      "  49.75777158  52.24566016  54.73354873  57.22143731  59.70932589\n",
      "  62.19721447  64.68510305  67.17299163  69.66088021  72.14876879\n",
      "  74.63665736  77.12454594  79.61243452  82.1003231   84.58821168\n",
      "  87.07610026  89.56398884  92.05187742  94.539766    97.02765457\n",
      "  99.51554315 102.00343173 104.49132031 106.97920889 109.46709747\n",
      " 111.95498605 114.44287463 116.9307632  119.41865178 121.90654036\n",
      " 124.39442894 126.88231752 129.3702061  131.85809468 134.34598326\n",
      " 136.83387184 139.32176041 141.80964899 144.29753757 146.78542615\n",
      " 149.27331473 151.76120331 154.24909189 156.73698047 159.22486904\n",
      " 161.71275762 164.2006462  166.68853478 169.17642336 171.66431194\n",
      " 174.15220052 176.6400891  179.12797768 181.61586625 184.10375483\n",
      " 186.59164341 189.07953199 191.56742057 194.05530915 196.54319773\n",
      " 199.03108631 201.51897488 204.00686346 206.49475204 208.98264062\n",
      " 211.4705292  213.95841778 216.44630636 218.93419494 221.42208352\n",
      " 223.90997209 226.39786067 228.88574925 231.37363783 233.86152641\n",
      " 236.34941499 238.83730357 241.32519215 243.81308072 246.3009693\n",
      " 248.78885788 251.27674646 253.76463504 256.25252362 258.7404122\n",
      " 261.22830078 263.71618936 266.20407793 268.69196651 271.17985509\n",
      " 273.66774367 276.15563225 278.64352083 281.13140941 283.61929799\n",
      " 286.10718656 288.59507514 291.08296372 293.5708523  296.05874088\n",
      " 298.54662946 301.03451804 303.52240662 306.0102952  308.49818377\n",
      " 310.98607235 313.47396093 315.96184951 318.44973809 320.93762667\n",
      " 323.42551525 325.91340383 328.4012924  330.88918098 333.37706956\n",
      " 335.86495814 338.35284672 340.8407353  343.32862388 345.81651246\n",
      " 348.30440104 350.79228961 353.28017819 355.76806677 358.25595535\n",
      " 360.74384393 363.23173251 365.71962109 368.20750967 370.69539824\n",
      " 373.18328682 375.6711754  378.15906398 380.64695256 383.13484114\n",
      " 385.62272972 388.1106183  390.59850688 393.08639545 395.57428403\n",
      " 398.06217261 400.55006119 403.03794977 405.52583835 408.01372693\n",
      " 410.50161551 412.98950408 415.47739266 417.96528124 420.45316982\n",
      " 422.9410584  425.42894698 427.91683556 430.40472414 432.89261272\n",
      " 435.38050129 437.86838987 440.35627845 442.84416703 445.33205561\n",
      " 447.81994419 450.30783277 452.79572135 455.28360992 457.7714985\n",
      " 460.25938708 462.74727566 465.23516424 467.72305282 470.2109414\n",
      " 472.69882998 475.18671856 477.67460713 480.16249571 482.65038429\n",
      " 485.13827287 487.62616145 490.11405003 492.60193861 495.08982719]\n",
      "[ 0.00000000e+00 -3.73131229e-01 -2.59817608e+00 -3.26212050e+00\n",
      " -2.18442687e+00 -2.98929946e-02  2.42923642e+00  4.54913599e+00\n",
      "  5.92318348e+00  6.35117933e+00  5.82369277e+00  4.46259540e+00\n",
      "  2.47320794e+00  1.09577220e-01 -2.36575300e+00 -4.71261671e+00\n",
      " -6.72701769e+00 -8.25541575e+00 -9.18486120e+00 -9.46381505e+00\n",
      " -9.11085788e+00 -8.12875279e+00 -6.63306046e+00 -4.69271059e+00\n",
      " -2.44736165e+00 -2.05444585e-02  2.46101146e+00  4.86841760e+00\n",
      "  7.08937968e+00  9.02539126e+00  1.05948609e+01  1.17357250e+01\n",
      "  1.24068974e+01  1.25885805e+01  1.22815267e+01  1.15053927e+01\n",
      "  1.02963689e+01  8.70429550e+00  6.78948686e+00  4.61716636e+00\n",
      "  2.25853448e+00 -1.98731680e-01 -2.68040566e+00 -5.11543300e+00\n",
      " -7.41973991e+00 -9.53891040e+00 -1.14237629e+01 -1.29919305e+01\n",
      " -1.42355069e+01 -1.51243232e+01 -1.56061571e+01 -1.57219415e+01\n",
      " -1.54217066e+01 -1.47579136e+01 -1.37255236e+01 -1.23634834e+01\n",
      " -1.07024632e+01 -8.78327367e+00 -6.65029558e+00 -4.35514246e+00\n",
      " -1.94290275e+00  5.28038914e-01  3.00985904e+00  5.45450275e+00\n",
      "  7.80093594e+00  1.00179639e+01  1.20595602e+01  1.38732623e+01\n",
      "  1.54564938e+01  1.67497894e+01  1.77435802e+01  1.84439878e+01\n",
      "  1.87990820e+01  1.88271003e+01  1.85472755e+01  1.79378850e+01\n",
      "  1.70105456e+01  1.58085777e+01  1.43501808e+01  1.26222364e+01\n",
      "  1.06905445e+01  8.58498641e+00  6.33562529e+00  3.96179025e+00\n",
      "  1.51802643e+00 -9.61699044e-01 -3.44349301e+00 -5.88951759e+00\n",
      " -8.26006582e+00 -1.05270865e+01 -1.26610269e+01 -1.46343020e+01\n",
      " -1.64206033e+01 -1.79708499e+01 -1.92894561e+01 -2.03605967e+01\n",
      " -2.11716587e+01 -2.17133504e+01 -2.19797677e+01 -2.19626531e+01\n",
      " -2.16476737e+01 -2.10622561e+01 -2.02145809e+01 -1.91158467e+01\n",
      " -1.77800930e+01 -1.62239930e+01 -1.44666197e+01 -1.25291882e+01\n",
      " -1.04347777e+01 -8.20773276e+00 -5.86978851e+00 -3.45563299e+00\n",
      " -9.92556869e-01  1.49191203e+00  3.97031733e+00  6.41557503e+00\n",
      "  8.80126359e+00  1.11019001e+01  1.32931995e+01  1.53523150e+01\n",
      "  1.72580567e+01  1.89910866e+01  2.05340895e+01  2.18719167e+01\n",
      "  2.29917039e+01  2.38829603e+01  2.45376309e+01  2.49501314e+01\n",
      "  2.51173551e+01  2.50386548e+01  2.47157984e+01  2.41529019e+01\n",
      "  2.33563391e+01  2.23346314e+01  2.10983193e+01  1.96598169e+01\n",
      "  1.80332532e+01  1.62343003e+01  1.42799934e+01  1.21885425e+01\n",
      "  9.97914013e+00  7.67176574e+00  5.28699023e+00  2.84441658e+00\n",
      "  3.68190102e-01 -2.11846865e+00 -4.59426061e+00 -7.03829202e+00\n",
      " -9.43024209e+00 -1.17505186e+01 -1.39803999e+01 -1.61021634e+01\n",
      " -1.80991985e+01 -1.99561058e+01 -2.16587804e+01 -2.31850397e+01\n",
      " -2.45166960e+01 -2.56568097e+01 -2.65976904e+01 -2.73332424e+01\n",
      " -2.78589555e+01 -2.81718833e+01 -2.82706110e+01 -2.81552119e+01\n",
      " -2.78066635e+01 -2.72341677e+01 -2.64578863e+01 -2.54844118e+01\n",
      " -2.43214986e+01 -2.29779690e+01 -2.14636172e+01 -1.97837046e+01\n",
      " -1.79341987e+01 -1.59545785e+01 -1.38585628e+01 -1.16602783e+01\n",
      " -9.37416511e+00 -7.01488958e+00 -4.59184632e+00 -2.12995331e+00\n",
      "  3.50691071e-01  2.83498918e+00  5.30813450e+00  7.75565814e+00\n",
      "  1.01522531e+01  1.24813227e+01  1.47337756e+01  1.68973642e+01\n",
      "  1.89604991e+01  2.09071945e+01  2.26943693e+01  2.43420179e+01\n",
      "  2.58422998e+01  2.71881423e+01  2.83731992e+01  2.93376609e+01\n",
      "  3.01222558e+01  3.07280750e+01  3.11531219e+01  3.13960177e+01]\n",
      "[ 0.00000000e+00  1.74026724e+00  9.81816584e-01 -1.34251287e+00\n",
      " -3.53191891e+00 -4.70449474e+00 -4.59573427e+00 -3.33831870e+00\n",
      " -1.28956083e+00  1.14234685e+00  3.55645601e+00  5.62188218e+00\n",
      "  7.09389488e+00  7.82951803e+00  7.78700678e+00  6.99685666e+00\n",
      "  5.55535240e+00  3.60417006e+00  1.30506373e+00 -1.15819722e+00\n",
      " -3.61328132e+00 -5.89130465e+00 -7.87065053e+00 -9.41689057e+00\n",
      " -1.04714836e+01 -1.09903787e+01 -1.09354306e+01 -1.03330912e+01\n",
      " -9.22690166e+00 -7.67489830e+00 -5.75257980e+00 -3.54832201e+00\n",
      " -1.15854355e+00  1.31709956e+00  3.78023622e+00  6.13780326e+00\n",
      "  8.30540149e+00  1.02098724e+01  1.17910419e+01  1.29972950e+01\n",
      "  1.37774249e+01  1.41319792e+01  1.40585758e+01  1.35636816e+01\n",
      "  1.26345244e+01  1.13409083e+01  9.72216360e+00  7.79464305e+00\n",
      "  5.64544223e+00  3.32503222e+00  8.88107041e-01 -1.59329248e+00\n",
      " -4.05992507e+00 -6.45313746e+00 -8.71327144e+00 -1.07900854e+01\n",
      " -1.26380653e+01 -1.42147006e+01 -1.54892299e+01 -1.64390858e+01\n",
      " -1.70351433e+01 -1.72938948e+01 -1.71685631e+01 -1.67219979e+01\n",
      " -1.59044166e+01 -1.47824153e+01 -1.33665280e+01 -1.16678134e+01\n",
      " -9.75246391e+00 -7.63091465e+00 -5.35345831e+00 -2.96905840e+00\n",
      " -5.09631905e-01  1.97507060e+00  4.44430515e+00  6.85344809e+00\n",
      "  9.15903461e+00  1.13337844e+01  1.33467125e+01  1.51336120e+01\n",
      "  1.66966787e+01  1.80162922e+01  1.90746708e+01  1.98127969e+01\n",
      "  2.02634499e+01  2.04221761e+01  2.02877631e+01  1.98449702e+01\n",
      "  1.90974465e+01  1.80799531e+01  1.68069397e+01  1.52959771e+01\n",
      "  1.35665801e+01  1.16227312e+01  9.51601869e+00  7.27388893e+00\n",
      "  4.92519240e+00  2.49981337e+00  2.82932820e-02 -2.45817963e+00\n",
      " -4.92460367e+00 -7.34030894e+00 -9.67635928e+00 -1.19050601e+01\n",
      " -1.40002645e+01 -1.59376556e+01 -1.76950019e+01 -1.92523833e+01\n",
      " -2.05923861e+01 -2.16995543e+01 -2.25478860e+01 -2.31432552e+01\n",
      " -2.34800725e+01 -2.35556687e+01 -2.33702741e+01 -2.29269662e+01\n",
      " -2.22315865e+01 -2.12926288e+01 -2.01211000e+01 -1.87303570e+01\n",
      " -1.71359212e+01 -1.53552740e+01 -1.34076356e+01 -1.13137308e+01\n",
      " -9.09554383e+00 -6.77606668e+00 -4.37904252e+00 -1.92870828e+00\n",
      "  5.50461201e-01  3.03400451e+00  5.49771780e+00  7.91788934e+00\n",
      "  1.02715222e+01  1.25365431e+01  1.46919953e+01  1.67182148e+01\n",
      "  1.85969872e+01  2.03116866e+01  2.18473923e+01  2.31909872e+01\n",
      "  2.43312337e+01  2.52588296e+01  2.59664444e+01  2.64391214e+01\n",
      "  2.66748505e+01  2.66796333e+01  2.64545680e+01  2.60026765e+01\n",
      "  2.53288265e+01  2.44396400e+01  2.33433894e+01  2.20498837e+01\n",
      "  2.05703459e+01  1.89172843e+01  1.71043584e+01  1.51396391e+01\n",
      "  1.30387952e+01  1.08294252e+01  8.52903617e+00  6.15551380e+00\n",
      "  3.72697869e+00  1.26164946e+00 -1.22228693e+00 -3.70679651e+00\n",
      " -6.17014862e+00 -8.59028675e+00 -1.09516293e+01 -1.32379536e+01\n",
      " -1.54338179e+01 -1.75246263e+01 -1.94966815e+01 -2.13317519e+01\n",
      " -2.29952001e+01 -2.44987532e+01 -2.58335652e+01 -2.69919481e+01\n",
      " -2.79673583e+01 -2.87543764e+01 -2.93186910e+01 -2.96679958e+01\n",
      " -2.98181354e+01 -2.97693731e+01 -2.95229769e+01 -2.90811595e+01\n",
      " -2.84133854e+01 -2.75430665e+01 -2.64934034e+01 -2.52713717e+01\n",
      " -2.38845608e+01 -2.23353782e+01 -2.06051319e+01 -1.87442619e+01\n",
      " -1.67635423e+01 -1.46739620e+01 -1.24866789e+01 -1.01933401e+01\n",
      " -7.83474328e+00 -5.42495146e+00 -2.97607515e+00 -5.00072086e-01]\n"
     ]
    }
   ],
   "source": [
    "phi = np.arange(0, 10*np.pi, 0.1)\n",
    "a = 1\n",
    "x = a*phi*np.cos(phi)\n",
    "y = a*phi*np.sin(phi)\n",
    "\n",
    "dr = (np.diff(x)**2 + np.diff(y)**2)**.5 \n",
    "\n",
    "r = np.zeros_like(x)\n",
    "r[1:] = np.cumsum(dr)                \n",
    "r_int = np.linspace(0, r.max(), 200)\n",
    "print(r_int)\n",
    "x_int = np.interp(r_int, r, x)\n",
    "print(x_int)\n",
    "y_int = np.interp(r_int, r, y)\n",
    "print(y_int)"
   ]
  },
  {
   "cell_type": "markdown",
   "id": "340d6f36",
   "metadata": {},
   "source": [
    "#### 99. Given an integer n and a 2D array X, select from X the rows which can be interpreted as draws from a multinomial distribution with n degrees, i.e., the rows which only contain integers and which sum to n. (★★★)"
   ]
  },
  {
   "cell_type": "code",
   "execution_count": 194,
   "id": "a75323ae",
   "metadata": {},
   "outputs": [
    {
     "name": "stdout",
     "output_type": "stream",
     "text": [
      "[[2. 0. 1. 1.]]\n"
     ]
    }
   ],
   "source": [
    "matrix = np.asarray([[1.0, 0.0, 3.0, 8.0],\n",
    "                [2.0, 0.0, 1.0, 1.0],\n",
    "                [1.5, 2.5, 1.0, 0.0]])\n",
    "n = 4\n",
    "M = np.logical_and.reduce(np.mod(matrix, 1) == 0, axis=-1)\n",
    "M &= (matrix.sum(axis=-1) == n)\n",
    "print(matrix[M])"
   ]
  },
  {
   "cell_type": "markdown",
   "id": "19721849",
   "metadata": {},
   "source": [
    "#### 100. Compute bootstrapped 95% confidence intervals for the mean of a 1D array X (i.e., resample the elements of an array with replacement N times, compute the mean of each sample, and then compute percentiles over the means). (★★★)"
   ]
  },
  {
   "cell_type": "code",
   "execution_count": 195,
   "id": "87309c6f",
   "metadata": {},
   "outputs": [
    {
     "name": "stdout",
     "output_type": "stream",
     "text": [
      "[-0.20410564  0.16661151]\n"
     ]
    }
   ],
   "source": [
    "array = np.random.randn(100) \n",
    "replacement_count = 1000 \n",
    "\n",
    "idx = np.random.randint(0, array.size, (replacement_count, array.size))\n",
    "means = array[idx].mean(axis=1)\n",
    "confint = np.percentile(means, [2.5, 97.5])\n",
    "\n",
    "print(confint)"
   ]
  },
  {
   "cell_type": "code",
   "execution_count": null,
   "id": "c1008cd1-0532-4baf-b7f6-1225651ccee9",
   "metadata": {},
   "outputs": [],
   "source": []
  }
 ],
 "metadata": {
  "kernelspec": {
   "display_name": "Python 3 (ipykernel)",
   "language": "python",
   "name": "python3"
  },
  "language_info": {
   "codemirror_mode": {
    "name": "ipython",
    "version": 3
   },
   "file_extension": ".py",
   "mimetype": "text/x-python",
   "name": "python",
   "nbconvert_exporter": "python",
   "pygments_lexer": "ipython3",
   "version": "3.9.13"
  }
 },
 "nbformat": 4,
 "nbformat_minor": 5
}
